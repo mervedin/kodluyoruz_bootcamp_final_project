{
 "cells": [
  {
   "cell_type": "code",
   "execution_count": 1,
   "id": "38dbf8cb",
   "metadata": {},
   "outputs": [],
   "source": [
    "import numpy as np\n",
    "import pandas as pd\n",
    "import matplotlib.pyplot as plt\n",
    "import seaborn as sns\n",
    "from scipy.stats import zscore\n",
    "from sklearn.preprocessing import StandardScaler\n",
    "from sklearn.model_selection import train_test_split"
   ]
  },
  {
   "cell_type": "markdown",
   "id": "fc085a85",
   "metadata": {},
   "source": [
    "### TO DO:\n",
    "    z_score a gör outlier olanları veriden at\n",
    "    veriyi tekrar returnu 1 olanlarla concat et\n",
    "    veriden gereksiz kolonlar -id gibi- at\n",
    "    veriyi normalize et\n",
    "    veriyi shuffle et\n",
    "    gerekirse veriyi yarıya indir modele öyle ver\n",
    "    dt, rf, lightgbm, xgboost algolarını dene "
   ]
  },
  {
   "cell_type": "code",
   "execution_count": 2,
   "id": "80d321b0",
   "metadata": {},
   "outputs": [
    {
     "data": {
      "text/html": [
       "<div>\n",
       "<style scoped>\n",
       "    .dataframe tbody tr th:only-of-type {\n",
       "        vertical-align: middle;\n",
       "    }\n",
       "\n",
       "    .dataframe tbody tr th {\n",
       "        vertical-align: top;\n",
       "    }\n",
       "\n",
       "    .dataframe thead th {\n",
       "        text-align: right;\n",
       "    }\n",
       "</style>\n",
       "<table border=\"1\" class=\"dataframe\">\n",
       "  <thead>\n",
       "    <tr style=\"text-align: right;\">\n",
       "      <th></th>\n",
       "      <th>order_date</th>\n",
       "      <th>user_id</th>\n",
       "      <th>is_elite_user</th>\n",
       "      <th>supplier_id</th>\n",
       "      <th>order_line_item_id</th>\n",
       "      <th>order_parent_id</th>\n",
       "      <th>product_content_id</th>\n",
       "      <th>product_variant_id</th>\n",
       "      <th>original_price</th>\n",
       "      <th>discounted_price</th>\n",
       "      <th>...</th>\n",
       "      <th>unresolved_accepted_claim</th>\n",
       "      <th>unresolvedclaim_percentage</th>\n",
       "      <th>defective_returnRate</th>\n",
       "      <th>review_rates_mean</th>\n",
       "      <th>review_rates_min</th>\n",
       "      <th>review_rates_max</th>\n",
       "      <th>brand_id</th>\n",
       "      <th>brand_name</th>\n",
       "      <th>category_id</th>\n",
       "      <th>category_name</th>\n",
       "    </tr>\n",
       "  </thead>\n",
       "  <tbody>\n",
       "    <tr>\n",
       "      <th>0</th>\n",
       "      <td>2021-05-01 00:00:01.761000+00:00</td>\n",
       "      <td>3941815</td>\n",
       "      <td>0</td>\n",
       "      <td>4662</td>\n",
       "      <td>901280147</td>\n",
       "      <td>595758968</td>\n",
       "      <td>95503167</td>\n",
       "      <td>159147197</td>\n",
       "      <td>79.90</td>\n",
       "      <td>51.94</td>\n",
       "      <td>...</td>\n",
       "      <td>25</td>\n",
       "      <td>0.328947</td>\n",
       "      <td>0.003045</td>\n",
       "      <td>3.250000</td>\n",
       "      <td>1</td>\n",
       "      <td>5</td>\n",
       "      <td>682</td>\n",
       "      <td>Slazenger</td>\n",
       "      <td>604</td>\n",
       "      <td>T-Shirt</td>\n",
       "    </tr>\n",
       "    <tr>\n",
       "      <th>1</th>\n",
       "      <td>2021-05-01 00:00:01.761000+00:00</td>\n",
       "      <td>3941815</td>\n",
       "      <td>0</td>\n",
       "      <td>157306</td>\n",
       "      <td>901280145</td>\n",
       "      <td>595758968</td>\n",
       "      <td>36888320</td>\n",
       "      <td>65612791</td>\n",
       "      <td>59.99</td>\n",
       "      <td>49.99</td>\n",
       "      <td>...</td>\n",
       "      <td>7</td>\n",
       "      <td>0.777778</td>\n",
       "      <td>0.000744</td>\n",
       "      <td>0.000000</td>\n",
       "      <td>0</td>\n",
       "      <td>0</td>\n",
       "      <td>381</td>\n",
       "      <td>Ltb</td>\n",
       "      <td>2949</td>\n",
       "      <td>Polo Yaka T-shirt</td>\n",
       "    </tr>\n",
       "    <tr>\n",
       "      <th>2</th>\n",
       "      <td>2021-05-01 00:00:01.761000+00:00</td>\n",
       "      <td>3941815</td>\n",
       "      <td>0</td>\n",
       "      <td>163856</td>\n",
       "      <td>901280144</td>\n",
       "      <td>595758968</td>\n",
       "      <td>36888399</td>\n",
       "      <td>65613254</td>\n",
       "      <td>49.90</td>\n",
       "      <td>49.90</td>\n",
       "      <td>...</td>\n",
       "      <td>3</td>\n",
       "      <td>0.200000</td>\n",
       "      <td>0.000633</td>\n",
       "      <td>0.000000</td>\n",
       "      <td>0</td>\n",
       "      <td>0</td>\n",
       "      <td>381</td>\n",
       "      <td>Ltb</td>\n",
       "      <td>2949</td>\n",
       "      <td>Polo Yaka T-shirt</td>\n",
       "    </tr>\n",
       "    <tr>\n",
       "      <th>3</th>\n",
       "      <td>2021-05-01 00:00:01.761000+00:00</td>\n",
       "      <td>3941815</td>\n",
       "      <td>0</td>\n",
       "      <td>163</td>\n",
       "      <td>901280149</td>\n",
       "      <td>595758968</td>\n",
       "      <td>36313798</td>\n",
       "      <td>64622938</td>\n",
       "      <td>129.95</td>\n",
       "      <td>59.97</td>\n",
       "      <td>...</td>\n",
       "      <td>0</td>\n",
       "      <td>0.000000</td>\n",
       "      <td>0.000545</td>\n",
       "      <td>4.476190</td>\n",
       "      <td>1</td>\n",
       "      <td>5</td>\n",
       "      <td>121</td>\n",
       "      <td>Pierre Cardin</td>\n",
       "      <td>604</td>\n",
       "      <td>T-Shirt</td>\n",
       "    </tr>\n",
       "    <tr>\n",
       "      <th>4</th>\n",
       "      <td>2021-05-01 00:00:02.742000+00:00</td>\n",
       "      <td>15996105</td>\n",
       "      <td>1</td>\n",
       "      <td>968</td>\n",
       "      <td>901279297</td>\n",
       "      <td>595758987</td>\n",
       "      <td>96930601</td>\n",
       "      <td>161408176</td>\n",
       "      <td>89.99</td>\n",
       "      <td>71.99</td>\n",
       "      <td>...</td>\n",
       "      <td>0</td>\n",
       "      <td>0.000000</td>\n",
       "      <td>0.002828</td>\n",
       "      <td>4.500000</td>\n",
       "      <td>2</td>\n",
       "      <td>5</td>\n",
       "      <td>40</td>\n",
       "      <td>TRENDYOLMİLLA</td>\n",
       "      <td>1182</td>\n",
       "      <td>Elbise</td>\n",
       "    </tr>\n",
       "    <tr>\n",
       "      <th>...</th>\n",
       "      <td>...</td>\n",
       "      <td>...</td>\n",
       "      <td>...</td>\n",
       "      <td>...</td>\n",
       "      <td>...</td>\n",
       "      <td>...</td>\n",
       "      <td>...</td>\n",
       "      <td>...</td>\n",
       "      <td>...</td>\n",
       "      <td>...</td>\n",
       "      <td>...</td>\n",
       "      <td>...</td>\n",
       "      <td>...</td>\n",
       "      <td>...</td>\n",
       "      <td>...</td>\n",
       "      <td>...</td>\n",
       "      <td>...</td>\n",
       "      <td>...</td>\n",
       "      <td>...</td>\n",
       "      <td>...</td>\n",
       "      <td>...</td>\n",
       "    </tr>\n",
       "    <tr>\n",
       "      <th>10702712</th>\n",
       "      <td>2021-07-30 23:59:58.335000+00:00</td>\n",
       "      <td>14877765</td>\n",
       "      <td>0</td>\n",
       "      <td>112044</td>\n",
       "      <td>1106635719</td>\n",
       "      <td>721367377</td>\n",
       "      <td>120102810</td>\n",
       "      <td>193463391</td>\n",
       "      <td>179.95</td>\n",
       "      <td>179.95</td>\n",
       "      <td>...</td>\n",
       "      <td>25</td>\n",
       "      <td>0.050302</td>\n",
       "      <td>0.003462</td>\n",
       "      <td>5.000000</td>\n",
       "      <td>5</td>\n",
       "      <td>5</td>\n",
       "      <td>4951</td>\n",
       "      <td>Pull &amp; Bear</td>\n",
       "      <td>526</td>\n",
       "      <td>Etek</td>\n",
       "    </tr>\n",
       "    <tr>\n",
       "      <th>10702713</th>\n",
       "      <td>2021-07-30 23:59:59.290000+00:00</td>\n",
       "      <td>25067941</td>\n",
       "      <td>1</td>\n",
       "      <td>163</td>\n",
       "      <td>1106635937</td>\n",
       "      <td>721367381</td>\n",
       "      <td>123501317</td>\n",
       "      <td>199281489</td>\n",
       "      <td>199.95</td>\n",
       "      <td>71.98</td>\n",
       "      <td>...</td>\n",
       "      <td>0</td>\n",
       "      <td>0.000000</td>\n",
       "      <td>0.000545</td>\n",
       "      <td>4.480000</td>\n",
       "      <td>1</td>\n",
       "      <td>5</td>\n",
       "      <td>19</td>\n",
       "      <td>U.S. Polo Assn.</td>\n",
       "      <td>604</td>\n",
       "      <td>T-Shirt</td>\n",
       "    </tr>\n",
       "    <tr>\n",
       "      <th>10702714</th>\n",
       "      <td>2021-07-30 23:59:59.290000+00:00</td>\n",
       "      <td>25067941</td>\n",
       "      <td>1</td>\n",
       "      <td>163</td>\n",
       "      <td>1106635936</td>\n",
       "      <td>721367381</td>\n",
       "      <td>123501233</td>\n",
       "      <td>199281191</td>\n",
       "      <td>169.95</td>\n",
       "      <td>62.38</td>\n",
       "      <td>...</td>\n",
       "      <td>0</td>\n",
       "      <td>0.000000</td>\n",
       "      <td>0.000545</td>\n",
       "      <td>4.263158</td>\n",
       "      <td>1</td>\n",
       "      <td>5</td>\n",
       "      <td>19</td>\n",
       "      <td>U.S. Polo Assn.</td>\n",
       "      <td>604</td>\n",
       "      <td>T-Shirt</td>\n",
       "    </tr>\n",
       "    <tr>\n",
       "      <th>10702715</th>\n",
       "      <td>2021-07-30 23:59:59.290000+00:00</td>\n",
       "      <td>25067941</td>\n",
       "      <td>1</td>\n",
       "      <td>163</td>\n",
       "      <td>1106635935</td>\n",
       "      <td>721367381</td>\n",
       "      <td>94575220</td>\n",
       "      <td>157698762</td>\n",
       "      <td>349.95</td>\n",
       "      <td>143.98</td>\n",
       "      <td>...</td>\n",
       "      <td>0</td>\n",
       "      <td>0.000000</td>\n",
       "      <td>0.000545</td>\n",
       "      <td>5.000000</td>\n",
       "      <td>5</td>\n",
       "      <td>5</td>\n",
       "      <td>19</td>\n",
       "      <td>U.S. Polo Assn.</td>\n",
       "      <td>597</td>\n",
       "      <td>Gömlek</td>\n",
       "    </tr>\n",
       "    <tr>\n",
       "      <th>10702716</th>\n",
       "      <td>2021-07-30 23:59:59.547000+00:00</td>\n",
       "      <td>28730261</td>\n",
       "      <td>0</td>\n",
       "      <td>104961</td>\n",
       "      <td>1106636359</td>\n",
       "      <td>721367382</td>\n",
       "      <td>114754483</td>\n",
       "      <td>186797019</td>\n",
       "      <td>159.95</td>\n",
       "      <td>159.95</td>\n",
       "      <td>...</td>\n",
       "      <td>22</td>\n",
       "      <td>0.057592</td>\n",
       "      <td>0.003056</td>\n",
       "      <td>4.300000</td>\n",
       "      <td>2</td>\n",
       "      <td>5</td>\n",
       "      <td>2685</td>\n",
       "      <td>Bershka</td>\n",
       "      <td>604</td>\n",
       "      <td>T-Shirt</td>\n",
       "    </tr>\n",
       "  </tbody>\n",
       "</table>\n",
       "<p>10702717 rows × 31 columns</p>\n",
       "</div>"
      ],
      "text/plain": [
       "                                order_date   user_id  is_elite_user  \\\n",
       "0         2021-05-01 00:00:01.761000+00:00   3941815              0   \n",
       "1         2021-05-01 00:00:01.761000+00:00   3941815              0   \n",
       "2         2021-05-01 00:00:01.761000+00:00   3941815              0   \n",
       "3         2021-05-01 00:00:01.761000+00:00   3941815              0   \n",
       "4         2021-05-01 00:00:02.742000+00:00  15996105              1   \n",
       "...                                    ...       ...            ...   \n",
       "10702712  2021-07-30 23:59:58.335000+00:00  14877765              0   \n",
       "10702713  2021-07-30 23:59:59.290000+00:00  25067941              1   \n",
       "10702714  2021-07-30 23:59:59.290000+00:00  25067941              1   \n",
       "10702715  2021-07-30 23:59:59.290000+00:00  25067941              1   \n",
       "10702716  2021-07-30 23:59:59.547000+00:00  28730261              0   \n",
       "\n",
       "          supplier_id  order_line_item_id  order_parent_id  \\\n",
       "0                4662           901280147        595758968   \n",
       "1              157306           901280145        595758968   \n",
       "2              163856           901280144        595758968   \n",
       "3                 163           901280149        595758968   \n",
       "4                 968           901279297        595758987   \n",
       "...               ...                 ...              ...   \n",
       "10702712       112044          1106635719        721367377   \n",
       "10702713          163          1106635937        721367381   \n",
       "10702714          163          1106635936        721367381   \n",
       "10702715          163          1106635935        721367381   \n",
       "10702716       104961          1106636359        721367382   \n",
       "\n",
       "          product_content_id  product_variant_id  original_price  \\\n",
       "0                   95503167           159147197           79.90   \n",
       "1                   36888320            65612791           59.99   \n",
       "2                   36888399            65613254           49.90   \n",
       "3                   36313798            64622938          129.95   \n",
       "4                   96930601           161408176           89.99   \n",
       "...                      ...                 ...             ...   \n",
       "10702712           120102810           193463391          179.95   \n",
       "10702713           123501317           199281489          199.95   \n",
       "10702714           123501233           199281191          169.95   \n",
       "10702715            94575220           157698762          349.95   \n",
       "10702716           114754483           186797019          159.95   \n",
       "\n",
       "          discounted_price  ...  unresolved_accepted_claim  \\\n",
       "0                    51.94  ...                         25   \n",
       "1                    49.99  ...                          7   \n",
       "2                    49.90  ...                          3   \n",
       "3                    59.97  ...                          0   \n",
       "4                    71.99  ...                          0   \n",
       "...                    ...  ...                        ...   \n",
       "10702712            179.95  ...                         25   \n",
       "10702713             71.98  ...                          0   \n",
       "10702714             62.38  ...                          0   \n",
       "10702715            143.98  ...                          0   \n",
       "10702716            159.95  ...                         22   \n",
       "\n",
       "         unresolvedclaim_percentage  defective_returnRate review_rates_mean  \\\n",
       "0                          0.328947              0.003045          3.250000   \n",
       "1                          0.777778              0.000744          0.000000   \n",
       "2                          0.200000              0.000633          0.000000   \n",
       "3                          0.000000              0.000545          4.476190   \n",
       "4                          0.000000              0.002828          4.500000   \n",
       "...                             ...                   ...               ...   \n",
       "10702712                   0.050302              0.003462          5.000000   \n",
       "10702713                   0.000000              0.000545          4.480000   \n",
       "10702714                   0.000000              0.000545          4.263158   \n",
       "10702715                   0.000000              0.000545          5.000000   \n",
       "10702716                   0.057592              0.003056          4.300000   \n",
       "\n",
       "          review_rates_min  review_rates_max  brand_id       brand_name  \\\n",
       "0                        1                 5       682        Slazenger   \n",
       "1                        0                 0       381              Ltb   \n",
       "2                        0                 0       381              Ltb   \n",
       "3                        1                 5       121    Pierre Cardin   \n",
       "4                        2                 5        40    TRENDYOLMİLLA   \n",
       "...                    ...               ...       ...              ...   \n",
       "10702712                 5                 5      4951      Pull & Bear   \n",
       "10702713                 1                 5        19  U.S. Polo Assn.   \n",
       "10702714                 1                 5        19  U.S. Polo Assn.   \n",
       "10702715                 5                 5        19  U.S. Polo Assn.   \n",
       "10702716                 2                 5      2685          Bershka   \n",
       "\n",
       "          category_id      category_name  \n",
       "0                 604            T-Shirt  \n",
       "1                2949  Polo Yaka T-shirt  \n",
       "2                2949  Polo Yaka T-shirt  \n",
       "3                 604            T-Shirt  \n",
       "4                1182             Elbise  \n",
       "...               ...                ...  \n",
       "10702712          526               Etek  \n",
       "10702713          604            T-Shirt  \n",
       "10702714          604            T-Shirt  \n",
       "10702715          597             Gömlek  \n",
       "10702716          604            T-Shirt  \n",
       "\n",
       "[10702717 rows x 31 columns]"
      ]
     },
     "execution_count": 2,
     "metadata": {},
     "output_type": "execute_result"
    }
   ],
   "source": [
    "train = pd.read_csv(\"train_all.csv\")\n",
    "train"
   ]
  },
  {
   "cell_type": "code",
   "execution_count": 3,
   "id": "0d7d1d23",
   "metadata": {},
   "outputs": [],
   "source": [
    "train_0 = train[train.is_returned == 0]\n",
    "train_1 = train[train.is_returned == 1]"
   ]
  },
  {
   "cell_type": "code",
   "execution_count": null,
   "id": "ddd5d7c6",
   "metadata": {},
   "outputs": [],
   "source": [
    "train_0.isna().sum()"
   ]
  },
  {
   "cell_type": "code",
   "execution_count": null,
   "id": "2f4278aa",
   "metadata": {
    "scrolled": true
   },
   "outputs": [],
   "source": [
    "train_0.info()"
   ]
  },
  {
   "cell_type": "code",
   "execution_count": 5,
   "id": "8ee5fcb2",
   "metadata": {},
   "outputs": [],
   "source": [
    "#numeric olan değerleri z_score a veriyorum\n",
    "z_score = zscore(train_0[['original_price', 'discounted_price', 'coupon_discount', \"returnRate\",\n",
    "   \"total_claim\", \"unresolved_claim\", \"unresolved_accepted_claim\", \"unresolvedclaim_percentage\",\n",
    "    \"defective_returnRate\", \"review_rates_mean\", \"review_rates_min\", \"review_rates_max\"]])"
   ]
  },
  {
   "cell_type": "code",
   "execution_count": null,
   "id": "4e07701d",
   "metadata": {},
   "outputs": [],
   "source": [
    "train_0.shape"
   ]
  },
  {
   "cell_type": "code",
   "execution_count": 6,
   "id": "4798ea32",
   "metadata": {},
   "outputs": [],
   "source": [
    "abs_zscore = abs(z_score)\n",
    "train_0 = train_0[(abs_zscore < 2).all(axis=1)]"
   ]
  },
  {
   "cell_type": "code",
   "execution_count": null,
   "id": "092e3f83",
   "metadata": {
    "scrolled": true
   },
   "outputs": [],
   "source": [
    "train_0.shape"
   ]
  },
  {
   "cell_type": "code",
   "execution_count": null,
   "id": "980e2f89",
   "metadata": {},
   "outputs": [],
   "source": [
    "train_1.shape"
   ]
  },
  {
   "cell_type": "code",
   "execution_count": 7,
   "id": "8be0e4da",
   "metadata": {},
   "outputs": [],
   "source": [
    "train_zscore = pd.concat([train_0, train_1])"
   ]
  },
  {
   "cell_type": "code",
   "execution_count": null,
   "id": "dd495e11",
   "metadata": {},
   "outputs": [],
   "source": [
    "train_zscore.columns"
   ]
  },
  {
   "cell_type": "code",
   "execution_count": 8,
   "id": "0faf0920",
   "metadata": {},
   "outputs": [],
   "source": [
    "drop_cols = [\"order_date\", \"user_id\", \"supplier_id\", \"order_line_item_id\", \"order_parent_id\",\n",
    "             \"product_content_id\", \"product_variant_id\", \"coupon_id\", \"promotion_name\",\n",
    "            'is_wallet_trx', 'is_saved_card_trx', 'brand_id', 'brand_name', 'category_id', 'category_name',\n",
    "            \"review_rates_min\", \"review_rates_max\"]"
   ]
  },
  {
   "cell_type": "code",
   "execution_count": 9,
   "id": "c43e7f6a",
   "metadata": {},
   "outputs": [
    {
     "data": {
      "text/html": [
       "<div>\n",
       "<style scoped>\n",
       "    .dataframe tbody tr th:only-of-type {\n",
       "        vertical-align: middle;\n",
       "    }\n",
       "\n",
       "    .dataframe tbody tr th {\n",
       "        vertical-align: top;\n",
       "    }\n",
       "\n",
       "    .dataframe thead th {\n",
       "        text-align: right;\n",
       "    }\n",
       "</style>\n",
       "<table border=\"1\" class=\"dataframe\">\n",
       "  <thead>\n",
       "    <tr style=\"text-align: right;\">\n",
       "      <th></th>\n",
       "      <th>is_elite_user</th>\n",
       "      <th>original_price</th>\n",
       "      <th>discounted_price</th>\n",
       "      <th>ship_cost</th>\n",
       "      <th>coupon_discount</th>\n",
       "      <th>promotion_award_value</th>\n",
       "      <th>is_returned</th>\n",
       "      <th>returnRate</th>\n",
       "      <th>total_claim</th>\n",
       "      <th>unresolved_claim</th>\n",
       "      <th>unresolved_accepted_claim</th>\n",
       "      <th>unresolvedclaim_percentage</th>\n",
       "      <th>defective_returnRate</th>\n",
       "      <th>review_rates_mean</th>\n",
       "    </tr>\n",
       "  </thead>\n",
       "  <tbody>\n",
       "    <tr>\n",
       "      <th>0</th>\n",
       "      <td>0</td>\n",
       "      <td>79.90</td>\n",
       "      <td>51.94</td>\n",
       "      <td>8.880000</td>\n",
       "      <td>0.0</td>\n",
       "      <td>35.0</td>\n",
       "      <td>0.0</td>\n",
       "      <td>0.098178</td>\n",
       "      <td>16357</td>\n",
       "      <td>76</td>\n",
       "      <td>25</td>\n",
       "      <td>0.328947</td>\n",
       "      <td>0.003045</td>\n",
       "      <td>3.250000</td>\n",
       "    </tr>\n",
       "    <tr>\n",
       "      <th>3</th>\n",
       "      <td>0</td>\n",
       "      <td>129.95</td>\n",
       "      <td>59.97</td>\n",
       "      <td>9.400000</td>\n",
       "      <td>0.0</td>\n",
       "      <td>40.0</td>\n",
       "      <td>0.0</td>\n",
       "      <td>0.050737</td>\n",
       "      <td>46699</td>\n",
       "      <td>0</td>\n",
       "      <td>0</td>\n",
       "      <td>0.000000</td>\n",
       "      <td>0.000545</td>\n",
       "      <td>4.476190</td>\n",
       "    </tr>\n",
       "    <tr>\n",
       "      <th>4</th>\n",
       "      <td>1</td>\n",
       "      <td>89.99</td>\n",
       "      <td>71.99</td>\n",
       "      <td>9.400000</td>\n",
       "      <td>0.0</td>\n",
       "      <td>20.0</td>\n",
       "      <td>0.0</td>\n",
       "      <td>0.127110</td>\n",
       "      <td>3269293</td>\n",
       "      <td>0</td>\n",
       "      <td>0</td>\n",
       "      <td>0.000000</td>\n",
       "      <td>0.002828</td>\n",
       "      <td>4.500000</td>\n",
       "    </tr>\n",
       "    <tr>\n",
       "      <th>5</th>\n",
       "      <td>1</td>\n",
       "      <td>56.99</td>\n",
       "      <td>28.50</td>\n",
       "      <td>1.342857</td>\n",
       "      <td>0.0</td>\n",
       "      <td>50.0</td>\n",
       "      <td>0.0</td>\n",
       "      <td>0.127110</td>\n",
       "      <td>3269293</td>\n",
       "      <td>0</td>\n",
       "      <td>0</td>\n",
       "      <td>0.000000</td>\n",
       "      <td>0.002828</td>\n",
       "      <td>4.416667</td>\n",
       "    </tr>\n",
       "    <tr>\n",
       "      <th>6</th>\n",
       "      <td>1</td>\n",
       "      <td>69.99</td>\n",
       "      <td>28.00</td>\n",
       "      <td>1.342857</td>\n",
       "      <td>0.0</td>\n",
       "      <td>60.0</td>\n",
       "      <td>0.0</td>\n",
       "      <td>0.127110</td>\n",
       "      <td>3269293</td>\n",
       "      <td>0</td>\n",
       "      <td>0</td>\n",
       "      <td>0.000000</td>\n",
       "      <td>0.002828</td>\n",
       "      <td>4.416667</td>\n",
       "    </tr>\n",
       "  </tbody>\n",
       "</table>\n",
       "</div>"
      ],
      "text/plain": [
       "   is_elite_user  original_price  discounted_price  ship_cost  \\\n",
       "0              0           79.90             51.94   8.880000   \n",
       "3              0          129.95             59.97   9.400000   \n",
       "4              1           89.99             71.99   9.400000   \n",
       "5              1           56.99             28.50   1.342857   \n",
       "6              1           69.99             28.00   1.342857   \n",
       "\n",
       "   coupon_discount  promotion_award_value  is_returned  returnRate  \\\n",
       "0              0.0                   35.0          0.0    0.098178   \n",
       "3              0.0                   40.0          0.0    0.050737   \n",
       "4              0.0                   20.0          0.0    0.127110   \n",
       "5              0.0                   50.0          0.0    0.127110   \n",
       "6              0.0                   60.0          0.0    0.127110   \n",
       "\n",
       "   total_claim  unresolved_claim  unresolved_accepted_claim  \\\n",
       "0        16357                76                         25   \n",
       "3        46699                 0                          0   \n",
       "4      3269293                 0                          0   \n",
       "5      3269293                 0                          0   \n",
       "6      3269293                 0                          0   \n",
       "\n",
       "   unresolvedclaim_percentage  defective_returnRate  review_rates_mean  \n",
       "0                    0.328947              0.003045           3.250000  \n",
       "3                    0.000000              0.000545           4.476190  \n",
       "4                    0.000000              0.002828           4.500000  \n",
       "5                    0.000000              0.002828           4.416667  \n",
       "6                    0.000000              0.002828           4.416667  "
      ]
     },
     "execution_count": 9,
     "metadata": {},
     "output_type": "execute_result"
    }
   ],
   "source": [
    "train = train_zscore.drop(drop_cols, axis=1)\n",
    "train.head()"
   ]
  },
  {
   "cell_type": "code",
   "execution_count": 10,
   "id": "e21c6941",
   "metadata": {},
   "outputs": [],
   "source": [
    "train = train.fillna(0)"
   ]
  },
  {
   "cell_type": "code",
   "execution_count": null,
   "id": "28b2d051",
   "metadata": {},
   "outputs": [],
   "source": [
    "train.isnull().sum()"
   ]
  },
  {
   "cell_type": "code",
   "execution_count": 11,
   "id": "9cc29cf9",
   "metadata": {},
   "outputs": [],
   "source": [
    "df_sampled = train.sample(frac=0.5, random_state=42)\n",
    "\n",
    "X = df_sampled.drop(columns=\"is_returned\", axis=1)\n",
    "y = df_sampled[\"is_returned\"]"
   ]
  },
  {
   "cell_type": "code",
   "execution_count": 12,
   "id": "a92e99d8",
   "metadata": {},
   "outputs": [],
   "source": [
    "X = StandardScaler().fit(X).transform(X.astype(float))"
   ]
  },
  {
   "cell_type": "code",
   "execution_count": 13,
   "id": "9f3696f2",
   "metadata": {
    "scrolled": false
   },
   "outputs": [],
   "source": [
    "X_train, X_test, y_train, y_test = train_test_split(X, y, test_size=0.2, stratify=y, random_state=42)"
   ]
  },
  {
   "cell_type": "code",
   "execution_count": 14,
   "id": "368b720d",
   "metadata": {},
   "outputs": [
    {
     "data": {
      "text/plain": [
       "RandomForestClassifier(n_jobs=-1, random_state=42)"
      ]
     },
     "execution_count": 14,
     "metadata": {},
     "output_type": "execute_result"
    }
   ],
   "source": [
    "from sklearn.ensemble import RandomForestClassifier\n",
    "from sklearn.metrics import confusion_matrix, classification_report\n",
    "\n",
    "rf = RandomForestClassifier(random_state=42, n_jobs=-1)\n",
    "rf.fit(X_train, y_train)"
   ]
  },
  {
   "cell_type": "code",
   "execution_count": 16,
   "id": "6732e393",
   "metadata": {},
   "outputs": [
    {
     "name": "stdout",
     "output_type": "stream",
     "text": [
      "[[667270  41619]\n",
      " [ 17191  94632]]\n",
      "              precision    recall  f1-score   support\n",
      "\n",
      "         0.0       0.97      0.94      0.96    708889\n",
      "         1.0       0.69      0.85      0.76    111823\n",
      "\n",
      "    accuracy                           0.93    820712\n",
      "   macro avg       0.83      0.89      0.86    820712\n",
      "weighted avg       0.94      0.93      0.93    820712\n",
      "\n"
     ]
    }
   ],
   "source": [
    "preds = rf.predict(X_test)\n",
    "\n",
    "print(confusion_matrix(preds, y_test))\n",
    "print(classification_report(preds, y_test))"
   ]
  },
  {
   "cell_type": "code",
   "execution_count": 18,
   "id": "30d49d9b",
   "metadata": {},
   "outputs": [
    {
     "name": "stdout",
     "output_type": "stream",
     "text": [
      "Collecting lightgbm\n",
      "  Downloading lightgbm-3.3.2-py3-none-win_amd64.whl (1.0 MB)\n",
      "Requirement already satisfied: wheel in c:\\programdata\\anaconda3\\lib\\site-packages (from lightgbm) (0.36.2)\n",
      "Requirement already satisfied: scikit-learn!=0.22.0 in c:\\programdata\\anaconda3\\lib\\site-packages (from lightgbm) (0.24.1)\n",
      "Requirement already satisfied: numpy in c:\\programdata\\anaconda3\\lib\\site-packages (from lightgbm) (1.20.1)\n",
      "Requirement already satisfied: scipy in c:\\programdata\\anaconda3\\lib\\site-packages (from lightgbm) (1.6.2)\n",
      "Requirement already satisfied: threadpoolctl>=2.0.0 in c:\\programdata\\anaconda3\\lib\\site-packages (from scikit-learn!=0.22.0->lightgbm) (2.1.0)\n",
      "Requirement already satisfied: joblib>=0.11 in c:\\programdata\\anaconda3\\lib\\site-packages (from scikit-learn!=0.22.0->lightgbm) (1.0.1)\n",
      "Installing collected packages: lightgbm\n",
      "Successfully installed lightgbm-3.3.2\n"
     ]
    }
   ],
   "source": [
    "!pip install lightgbm"
   ]
  },
  {
   "cell_type": "code",
   "execution_count": 19,
   "id": "38054e3a",
   "metadata": {
    "scrolled": true
   },
   "outputs": [],
   "source": [
    "from lightgbm import LGBMClassifier, plot_importance\n",
    "\n",
    "lgbm = LGBMClassifier(random_state=42)"
   ]
  },
  {
   "cell_type": "code",
   "execution_count": 20,
   "id": "ba051e60",
   "metadata": {},
   "outputs": [
    {
     "name": "stdout",
     "output_type": "stream",
     "text": [
      "Wall time: 20.9 s\n"
     ]
    },
    {
     "data": {
      "text/plain": [
       "LGBMClassifier(random_state=42)"
      ]
     },
     "execution_count": 20,
     "metadata": {},
     "output_type": "execute_result"
    }
   ],
   "source": [
    "%%time\n",
    "\n",
    "lgbm.fit(X_train, y_train)"
   ]
  },
  {
   "cell_type": "code",
   "execution_count": 22,
   "id": "916dd0d8",
   "metadata": {},
   "outputs": [
    {
     "name": "stdout",
     "output_type": "stream",
     "text": [
      "[[671573  49206]\n",
      " [ 12888  87045]]\n",
      "              precision    recall  f1-score   support\n",
      "\n",
      "         0.0       0.98      0.93      0.96    720779\n",
      "         1.0       0.64      0.87      0.74     99933\n",
      "\n",
      "    accuracy                           0.92    820712\n",
      "   macro avg       0.81      0.90      0.85    820712\n",
      "weighted avg       0.94      0.92      0.93    820712\n",
      "\n"
     ]
    }
   ],
   "source": [
    "preds_lgbm = lgbm.predict(X_test)\n",
    "\n",
    "print(confusion_matrix(preds_lgbm, y_test))\n",
    "print(classification_report(preds_lgbm, y_test))"
   ]
  },
  {
   "cell_type": "code",
   "execution_count": 23,
   "id": "7e022032",
   "metadata": {},
   "outputs": [],
   "source": [
    "from sklearn.tree import DecisionTreeClassifier\n",
    "\n",
    "dt = DecisionTreeClassifier(random_state=42)"
   ]
  },
  {
   "cell_type": "code",
   "execution_count": 24,
   "id": "c53f2e92",
   "metadata": {},
   "outputs": [
    {
     "name": "stdout",
     "output_type": "stream",
     "text": [
      "Wall time: 2min 19s\n"
     ]
    },
    {
     "data": {
      "text/plain": [
       "DecisionTreeClassifier(random_state=42)"
      ]
     },
     "execution_count": 24,
     "metadata": {},
     "output_type": "execute_result"
    }
   ],
   "source": [
    "%%time\n",
    "\n",
    "dt.fit(X_train, y_train)"
   ]
  },
  {
   "cell_type": "code",
   "execution_count": 25,
   "id": "655fc930",
   "metadata": {},
   "outputs": [
    {
     "name": "stdout",
     "output_type": "stream",
     "text": [
      "[[663377  42954]\n",
      " [ 21084  93297]]\n",
      "              precision    recall  f1-score   support\n",
      "\n",
      "         0.0       0.97      0.94      0.95    706331\n",
      "         1.0       0.68      0.82      0.74    114381\n",
      "\n",
      "    accuracy                           0.92    820712\n",
      "   macro avg       0.83      0.88      0.85    820712\n",
      "weighted avg       0.93      0.92      0.92    820712\n",
      "\n"
     ]
    }
   ],
   "source": [
    "preds_dt = dt.predict(X_test)\n",
    "\n",
    "print(confusion_matrix(preds_dt, y_test))\n",
    "print(classification_report(preds_dt, y_test))"
   ]
  },
  {
   "cell_type": "code",
   "execution_count": 26,
   "id": "c64bfe9e",
   "metadata": {},
   "outputs": [],
   "source": [
    "from xgboost import XGBClassifier\n",
    "\n",
    "xgb = XGBClassifier(random_state=42)"
   ]
  },
  {
   "cell_type": "code",
   "execution_count": 27,
   "id": "8366d47f",
   "metadata": {},
   "outputs": [
    {
     "name": "stderr",
     "output_type": "stream",
     "text": [
      "C:\\ProgramData\\Anaconda3\\lib\\site-packages\\xgboost\\sklearn.py:1224: UserWarning: The use of label encoder in XGBClassifier is deprecated and will be removed in a future release. To remove this warning, do the following: 1) Pass option use_label_encoder=False when constructing XGBClassifier object; and 2) Encode your labels (y) as integers starting with 0, i.e. 0, 1, 2, ..., [num_class - 1].\n",
      "  warnings.warn(label_encoder_deprecation_msg, UserWarning)\n"
     ]
    },
    {
     "name": "stdout",
     "output_type": "stream",
     "text": [
      "[01:00:02] WARNING: C:/Users/Administrator/workspace/xgboost-win64_release_1.5.0/src/learner.cc:1115: Starting in XGBoost 1.3.0, the default evaluation metric used with the objective 'binary:logistic' was changed from 'error' to 'logloss'. Explicitly set eval_metric if you'd like to restore the old behavior.\n",
      "Wall time: 4min 34s\n"
     ]
    },
    {
     "data": {
      "text/plain": [
       "XGBClassifier(base_score=0.5, booster='gbtree', colsample_bylevel=1,\n",
       "              colsample_bynode=1, colsample_bytree=1, enable_categorical=False,\n",
       "              gamma=0, gpu_id=-1, importance_type=None,\n",
       "              interaction_constraints='', learning_rate=0.300000012,\n",
       "              max_delta_step=0, max_depth=6, min_child_weight=1, missing=nan,\n",
       "              monotone_constraints='()', n_estimators=100, n_jobs=8,\n",
       "              num_parallel_tree=1, predictor='auto', random_state=42,\n",
       "              reg_alpha=0, reg_lambda=1, scale_pos_weight=1, subsample=1,\n",
       "              tree_method='exact', validate_parameters=1, verbosity=None)"
      ]
     },
     "execution_count": 27,
     "metadata": {},
     "output_type": "execute_result"
    }
   ],
   "source": [
    "%%time\n",
    "\n",
    "xgb.fit(X_train, y_train)"
   ]
  },
  {
   "cell_type": "code",
   "execution_count": 28,
   "id": "89df3d69",
   "metadata": {},
   "outputs": [
    {
     "name": "stdout",
     "output_type": "stream",
     "text": [
      "[[672567  47000]\n",
      " [ 11894  89251]]\n",
      "              precision    recall  f1-score   support\n",
      "\n",
      "         0.0       0.98      0.93      0.96    719567\n",
      "         1.0       0.66      0.88      0.75    101145\n",
      "\n",
      "    accuracy                           0.93    820712\n",
      "   macro avg       0.82      0.91      0.85    820712\n",
      "weighted avg       0.94      0.93      0.93    820712\n",
      "\n"
     ]
    }
   ],
   "source": [
    "preds_xgb = xgb.predict(X_test)\n",
    "\n",
    "print(confusion_matrix(preds_xgb, y_test))\n",
    "print(classification_report(preds_xgb, y_test))"
   ]
  },
  {
   "cell_type": "code",
   "execution_count": null,
   "id": "6bf44102",
   "metadata": {},
   "outputs": [],
   "source": [
    "# TODO: feature_importance"
   ]
  }
 ],
 "metadata": {
  "kernelspec": {
   "display_name": "Python 3",
   "language": "python",
   "name": "python3"
  },
  "language_info": {
   "codemirror_mode": {
    "name": "ipython",
    "version": 3
   },
   "file_extension": ".py",
   "mimetype": "text/x-python",
   "name": "python",
   "nbconvert_exporter": "python",
   "pygments_lexer": "ipython3",
   "version": "3.8.8"
  }
 },
 "nbformat": 4,
 "nbformat_minor": 5
}
