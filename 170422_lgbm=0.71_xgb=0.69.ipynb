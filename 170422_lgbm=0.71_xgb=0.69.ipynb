{
 "cells": [
  {
   "cell_type": "code",
   "execution_count": 30,
   "id": "db1a9284",
   "metadata": {},
   "outputs": [],
   "source": [
    "import pandas as pd\n",
    "import numpy as np\n",
    "import warnings\n",
    "warnings.filterwarnings('ignore')\n",
    "from scipy.stats import zscore\n",
    "from lightgbm import LGBMClassifier, plot_importance\n",
    "from sklearn.metrics import confusion_matrix, classification_report\n",
    "from sklearn.model_selection import train_test_split"
   ]
  },
  {
   "cell_type": "code",
   "execution_count": 2,
   "id": "dd0c282c",
   "metadata": {},
   "outputs": [],
   "source": [
    "def reduce_mem_usage(df):\n",
    "    \"\"\" iterate through all the columns of a dataframe and modify the data type\n",
    "        to reduce memory usage.\n",
    "    \"\"\"\n",
    "    start_mem = df.memory_usage().sum() / 1024**2\n",
    "    print('Memory usage of dataframe is {:.2f} MB'.format(start_mem))\n",
    "\n",
    "    for col in df.columns:\n",
    "        col_type = df[col].dtype\n",
    "\n",
    "        if col_type != object:\n",
    "            c_min = df[col].min()\n",
    "            c_max = df[col].max()\n",
    "            if str(col_type)[:3] == 'int':\n",
    "                if c_min > np.iinfo(np.int8).min and c_max < np.iinfo(np.int8).max:\n",
    "                    df[col] = df[col].astype(np.int8)\n",
    "                elif c_min > np.iinfo(np.int16).min and c_max < np.iinfo(np.int16).max:\n",
    "                    df[col] = df[col].astype(np.int16)\n",
    "                elif c_min > np.iinfo(np.int32).min and c_max < np.iinfo(np.int32).max:\n",
    "                    df[col] = df[col].astype(np.int32)\n",
    "                elif c_min > np.iinfo(np.int64).min and c_max < np.iinfo(np.int64).max:\n",
    "                    df[col] = df[col].astype(np.int64)\n",
    "            else:\n",
    "                if c_min > np.finfo(np.float16).min and c_max < np.finfo(np.float16).max:\n",
    "                    df[col] = df[col].astype(np.float16)\n",
    "                elif c_min > np.finfo(np.float32).min and c_max < np.finfo(np.float32).max:\n",
    "                    df[col] = df[col].astype(np.float32)\n",
    "                else:\n",
    "                    df[col] = df[col].astype(np.float64)\n",
    "        else:\n",
    "            df[col] = df[col].astype('category')\n",
    "\n",
    "    end_mem = df.memory_usage().sum() / 1024**2\n",
    "    print('Memory usage after optimization is: {:.2f} MB'.format(end_mem))\n",
    "    print('Decreased by {:.1f}%'.format(100 * (start_mem - end_mem) / start_mem))\n",
    "\n",
    "    return df"
   ]
  },
  {
   "cell_type": "code",
   "execution_count": 3,
   "id": "95041ddf",
   "metadata": {},
   "outputs": [],
   "source": [
    "def import_data(file):\n",
    "    \"\"\"create a dataframe and optimize its memory usage\"\"\"\n",
    "    df = pd.read_csv(file, parse_dates=True, keep_date_col=True, low_memory=False)\n",
    "    df = reduce_mem_usage(df)\n",
    "\n",
    "    return df"
   ]
  },
  {
   "cell_type": "code",
   "execution_count": 4,
   "id": "a060a8ff",
   "metadata": {},
   "outputs": [
    {
     "name": "stdout",
     "output_type": "stream",
     "text": [
      "train_all.csv\n",
      "Memory usage of dataframe is 2459.86 MB\n",
      "Memory usage after optimization is: 968.11 MB\n",
      "Decreased by 60.6%\n",
      "---------------------------------------------\n",
      "data/test_data.csv\n",
      "Memory usage of dataframe is 0.11 MB\n",
      "Memory usage after optimization is: 0.38 MB\n",
      "Decreased by -233.3%\n",
      "---------------------------------------------\n"
     ]
    }
   ],
   "source": [
    "filenames = [\"train_all.csv\", \"data/test_data.csv\"]\n",
    "for filename in filenames:\n",
    "    print(filename)\n",
    "    import_data(filename)\n",
    "    print('---------------------------------------------')"
   ]
  },
  {
   "cell_type": "code",
   "execution_count": 5,
   "id": "611c41bd",
   "metadata": {
    "scrolled": true
   },
   "outputs": [
    {
     "name": "stdout",
     "output_type": "stream",
     "text": [
      "Memory usage of dataframe is 2459.86 MB\n",
      "Memory usage after optimization is: 968.11 MB\n",
      "Decreased by 60.6%\n"
     ]
    }
   ],
   "source": [
    "df = import_data(\"train_all.csv\")"
   ]
  },
  {
   "cell_type": "code",
   "execution_count": 6,
   "id": "7f103411",
   "metadata": {},
   "outputs": [
    {
     "name": "stdout",
     "output_type": "stream",
     "text": [
      "Memory usage of dataframe is 112.10 MB\n",
      "Memory usage after optimization is: 46.05 MB\n",
      "Decreased by 58.9%\n"
     ]
    },
    {
     "data": {
      "text/html": [
       "<div>\n",
       "<style scoped>\n",
       "    .dataframe tbody tr th:only-of-type {\n",
       "        vertical-align: middle;\n",
       "    }\n",
       "\n",
       "    .dataframe tbody tr th {\n",
       "        vertical-align: top;\n",
       "    }\n",
       "\n",
       "    .dataframe thead th {\n",
       "        text-align: right;\n",
       "    }\n",
       "</style>\n",
       "<table border=\"1\" class=\"dataframe\">\n",
       "  <thead>\n",
       "    <tr style=\"text-align: right;\">\n",
       "      <th></th>\n",
       "      <th>order_date</th>\n",
       "      <th>user_id</th>\n",
       "      <th>is_elite_user</th>\n",
       "      <th>supplier_id</th>\n",
       "      <th>order_line_item_id</th>\n",
       "      <th>order_parent_id</th>\n",
       "      <th>product_content_id</th>\n",
       "      <th>product_variant_id</th>\n",
       "      <th>original_price</th>\n",
       "      <th>discounted_price</th>\n",
       "      <th>...</th>\n",
       "      <th>unresolved_accepted_claim</th>\n",
       "      <th>unresolvedclaim_percentage</th>\n",
       "      <th>defective_returnRate</th>\n",
       "      <th>review_rates_mean</th>\n",
       "      <th>review_rates_min</th>\n",
       "      <th>review_rates_max</th>\n",
       "      <th>brand_id</th>\n",
       "      <th>brand_name</th>\n",
       "      <th>category_id</th>\n",
       "      <th>category_name</th>\n",
       "    </tr>\n",
       "  </thead>\n",
       "  <tbody>\n",
       "    <tr>\n",
       "      <th>0</th>\n",
       "      <td>2021-07-31 00:00:02.035000+00:00</td>\n",
       "      <td>5323264</td>\n",
       "      <td>0</td>\n",
       "      <td>823</td>\n",
       "      <td>1106635517</td>\n",
       "      <td>721367415</td>\n",
       "      <td>55264030</td>\n",
       "      <td>97997774</td>\n",
       "      <td>650.000</td>\n",
       "      <td>260.0000</td>\n",
       "      <td>...</td>\n",
       "      <td>1</td>\n",
       "      <td>0.076904</td>\n",
       "      <td>0.003651</td>\n",
       "      <td>5.000000</td>\n",
       "      <td>5</td>\n",
       "      <td>5</td>\n",
       "      <td>2020</td>\n",
       "      <td>Yargıcı</td>\n",
       "      <td>1182</td>\n",
       "      <td>Elbise</td>\n",
       "    </tr>\n",
       "    <tr>\n",
       "      <th>1</th>\n",
       "      <td>2021-07-31 00:00:05.503000+00:00</td>\n",
       "      <td>18238989</td>\n",
       "      <td>1</td>\n",
       "      <td>968</td>\n",
       "      <td>1106636273</td>\n",
       "      <td>721367451</td>\n",
       "      <td>4032918</td>\n",
       "      <td>16332708</td>\n",
       "      <td>105.000</td>\n",
       "      <td>73.5000</td>\n",
       "      <td>...</td>\n",
       "      <td>0</td>\n",
       "      <td>0.000000</td>\n",
       "      <td>0.002827</td>\n",
       "      <td>4.378906</td>\n",
       "      <td>1</td>\n",
       "      <td>5</td>\n",
       "      <td>15508</td>\n",
       "      <td>TRENDYOL MAN</td>\n",
       "      <td>604</td>\n",
       "      <td>T-Shirt</td>\n",
       "    </tr>\n",
       "    <tr>\n",
       "      <th>2</th>\n",
       "      <td>2021-07-31 00:00:08.173000+00:00</td>\n",
       "      <td>13354100</td>\n",
       "      <td>1</td>\n",
       "      <td>346</td>\n",
       "      <td>1106635244</td>\n",
       "      <td>721367483</td>\n",
       "      <td>98066435</td>\n",
       "      <td>163202748</td>\n",
       "      <td>79.875</td>\n",
       "      <td>39.9375</td>\n",
       "      <td>...</td>\n",
       "      <td>0</td>\n",
       "      <td>0.000000</td>\n",
       "      <td>0.001260</td>\n",
       "      <td>4.500000</td>\n",
       "      <td>3</td>\n",
       "      <td>5</td>\n",
       "      <td>381</td>\n",
       "      <td>Ltb</td>\n",
       "      <td>581</td>\n",
       "      <td>Deniz Şortu</td>\n",
       "    </tr>\n",
       "    <tr>\n",
       "      <th>3</th>\n",
       "      <td>2021-07-31 00:00:10.850000+00:00</td>\n",
       "      <td>49613268</td>\n",
       "      <td>1</td>\n",
       "      <td>335931</td>\n",
       "      <td>1106634651</td>\n",
       "      <td>721367533</td>\n",
       "      <td>87599480</td>\n",
       "      <td>146668239</td>\n",
       "      <td>120.000</td>\n",
       "      <td>65.0000</td>\n",
       "      <td>...</td>\n",
       "      <td>8</td>\n",
       "      <td>0.727051</td>\n",
       "      <td>0.001929</td>\n",
       "      <td>4.070312</td>\n",
       "      <td>1</td>\n",
       "      <td>5</td>\n",
       "      <td>1027526</td>\n",
       "      <td>Meriche</td>\n",
       "      <td>597</td>\n",
       "      <td>Gömlek</td>\n",
       "    </tr>\n",
       "    <tr>\n",
       "      <th>4</th>\n",
       "      <td>2021-07-31 00:00:10.989000+00:00</td>\n",
       "      <td>7252871</td>\n",
       "      <td>1</td>\n",
       "      <td>201</td>\n",
       "      <td>1106637202</td>\n",
       "      <td>721367537</td>\n",
       "      <td>96509590</td>\n",
       "      <td>160768055</td>\n",
       "      <td>105.750</td>\n",
       "      <td>59.5000</td>\n",
       "      <td>...</td>\n",
       "      <td>47</td>\n",
       "      <td>0.238525</td>\n",
       "      <td>0.002970</td>\n",
       "      <td>3.941406</td>\n",
       "      <td>1</td>\n",
       "      <td>5</td>\n",
       "      <td>36426</td>\n",
       "      <td>Güneşkızı</td>\n",
       "      <td>604</td>\n",
       "      <td>T-Shirt</td>\n",
       "    </tr>\n",
       "  </tbody>\n",
       "</table>\n",
       "<p>5 rows × 31 columns</p>\n",
       "</div>"
      ],
      "text/plain": [
       "                         order_date   user_id  is_elite_user  supplier_id  \\\n",
       "0  2021-07-31 00:00:02.035000+00:00   5323264              0          823   \n",
       "1  2021-07-31 00:00:05.503000+00:00  18238989              1          968   \n",
       "2  2021-07-31 00:00:08.173000+00:00  13354100              1          346   \n",
       "3  2021-07-31 00:00:10.850000+00:00  49613268              1       335931   \n",
       "4  2021-07-31 00:00:10.989000+00:00   7252871              1          201   \n",
       "\n",
       "   order_line_item_id  order_parent_id  product_content_id  \\\n",
       "0          1106635517        721367415            55264030   \n",
       "1          1106636273        721367451             4032918   \n",
       "2          1106635244        721367483            98066435   \n",
       "3          1106634651        721367533            87599480   \n",
       "4          1106637202        721367537            96509590   \n",
       "\n",
       "   product_variant_id  original_price  discounted_price  ...  \\\n",
       "0            97997774         650.000          260.0000  ...   \n",
       "1            16332708         105.000           73.5000  ...   \n",
       "2           163202748          79.875           39.9375  ...   \n",
       "3           146668239         120.000           65.0000  ...   \n",
       "4           160768055         105.750           59.5000  ...   \n",
       "\n",
       "   unresolved_accepted_claim unresolvedclaim_percentage  defective_returnRate  \\\n",
       "0                          1                   0.076904              0.003651   \n",
       "1                          0                   0.000000              0.002827   \n",
       "2                          0                   0.000000              0.001260   \n",
       "3                          8                   0.727051              0.001929   \n",
       "4                         47                   0.238525              0.002970   \n",
       "\n",
       "  review_rates_mean  review_rates_min  review_rates_max  brand_id  \\\n",
       "0          5.000000                 5                 5      2020   \n",
       "1          4.378906                 1                 5     15508   \n",
       "2          4.500000                 3                 5       381   \n",
       "3          4.070312                 1                 5   1027526   \n",
       "4          3.941406                 1                 5     36426   \n",
       "\n",
       "     brand_name  category_id  category_name  \n",
       "0       Yargıcı         1182         Elbise  \n",
       "1  TRENDYOL MAN          604        T-Shirt  \n",
       "2           Ltb          581    Deniz Şortu  \n",
       "3       Meriche          597         Gömlek  \n",
       "4     Güneşkızı          604        T-Shirt  \n",
       "\n",
       "[5 rows x 31 columns]"
      ]
     },
     "execution_count": 6,
     "metadata": {},
     "output_type": "execute_result"
    }
   ],
   "source": [
    "df_test = import_data(\"test_all.csv\")\n",
    "df_test.head()"
   ]
  },
  {
   "cell_type": "code",
   "execution_count": 7,
   "id": "5ede98c9",
   "metadata": {},
   "outputs": [
    {
     "data": {
      "text/html": [
       "<div>\n",
       "<style scoped>\n",
       "    .dataframe tbody tr th:only-of-type {\n",
       "        vertical-align: middle;\n",
       "    }\n",
       "\n",
       "    .dataframe tbody tr th {\n",
       "        vertical-align: top;\n",
       "    }\n",
       "\n",
       "    .dataframe thead th {\n",
       "        text-align: right;\n",
       "    }\n",
       "</style>\n",
       "<table border=\"1\" class=\"dataframe\">\n",
       "  <thead>\n",
       "    <tr style=\"text-align: right;\">\n",
       "      <th></th>\n",
       "      <th>id</th>\n",
       "      <th>expected</th>\n",
       "    </tr>\n",
       "  </thead>\n",
       "  <tbody>\n",
       "    <tr>\n",
       "      <th>0</th>\n",
       "      <td>18115|87073974|726348863</td>\n",
       "      <td>NaN</td>\n",
       "    </tr>\n",
       "    <tr>\n",
       "      <th>1</th>\n",
       "      <td>27588|118753298|723169934</td>\n",
       "      <td>NaN</td>\n",
       "    </tr>\n",
       "    <tr>\n",
       "      <th>2</th>\n",
       "      <td>29165|35699988|724122443</td>\n",
       "      <td>NaN</td>\n",
       "    </tr>\n",
       "    <tr>\n",
       "      <th>3</th>\n",
       "      <td>29969|5893187|722342150</td>\n",
       "      <td>NaN</td>\n",
       "    </tr>\n",
       "    <tr>\n",
       "      <th>4</th>\n",
       "      <td>35107|93897418|723421057</td>\n",
       "      <td>NaN</td>\n",
       "    </tr>\n",
       "    <tr>\n",
       "      <th>...</th>\n",
       "      <td>...</td>\n",
       "      <td>...</td>\n",
       "    </tr>\n",
       "    <tr>\n",
       "      <th>7466</th>\n",
       "      <td>71083899|100019570|728638514</td>\n",
       "      <td>NaN</td>\n",
       "    </tr>\n",
       "    <tr>\n",
       "      <th>7467</th>\n",
       "      <td>71106534|35624085|725372928</td>\n",
       "      <td>NaN</td>\n",
       "    </tr>\n",
       "    <tr>\n",
       "      <th>7468</th>\n",
       "      <td>71115350|94438742|725291348</td>\n",
       "      <td>NaN</td>\n",
       "    </tr>\n",
       "    <tr>\n",
       "      <th>7469</th>\n",
       "      <td>71115350|100017676|725291348</td>\n",
       "      <td>NaN</td>\n",
       "    </tr>\n",
       "    <tr>\n",
       "      <th>7470</th>\n",
       "      <td>71160557|87073974|726377172</td>\n",
       "      <td>NaN</td>\n",
       "    </tr>\n",
       "  </tbody>\n",
       "</table>\n",
       "<p>7471 rows × 2 columns</p>\n",
       "</div>"
      ],
      "text/plain": [
       "                                id  expected\n",
       "0         18115|87073974|726348863       NaN\n",
       "1        27588|118753298|723169934       NaN\n",
       "2         29165|35699988|724122443       NaN\n",
       "3          29969|5893187|722342150       NaN\n",
       "4         35107|93897418|723421057       NaN\n",
       "...                            ...       ...\n",
       "7466  71083899|100019570|728638514       NaN\n",
       "7467   71106534|35624085|725372928       NaN\n",
       "7468   71115350|94438742|725291348       NaN\n",
       "7469  71115350|100017676|725291348       NaN\n",
       "7470   71160557|87073974|726377172       NaN\n",
       "\n",
       "[7471 rows x 2 columns]"
      ]
     },
     "execution_count": 7,
     "metadata": {},
     "output_type": "execute_result"
    }
   ],
   "source": [
    "sub_data = pd.read_csv(\"data/test_data.csv\")\n",
    "sub_data\n",
    "#id: user_id | product_content_id | order_parent_id"
   ]
  },
  {
   "cell_type": "code",
   "execution_count": 8,
   "id": "12e9a7b5",
   "metadata": {},
   "outputs": [
    {
     "data": {
      "text/html": [
       "<div>\n",
       "<style scoped>\n",
       "    .dataframe tbody tr th:only-of-type {\n",
       "        vertical-align: middle;\n",
       "    }\n",
       "\n",
       "    .dataframe tbody tr th {\n",
       "        vertical-align: top;\n",
       "    }\n",
       "\n",
       "    .dataframe thead th {\n",
       "        text-align: right;\n",
       "    }\n",
       "</style>\n",
       "<table border=\"1\" class=\"dataframe\">\n",
       "  <thead>\n",
       "    <tr style=\"text-align: right;\">\n",
       "      <th></th>\n",
       "      <th>user_id</th>\n",
       "      <th>birth_date</th>\n",
       "      <th>membership_date</th>\n",
       "      <th>gender</th>\n",
       "    </tr>\n",
       "  </thead>\n",
       "  <tbody>\n",
       "    <tr>\n",
       "      <th>0</th>\n",
       "      <td>22013146</td>\n",
       "      <td>NaN</td>\n",
       "      <td>2019-05-09 11:11:17.413000+00:00</td>\n",
       "      <td>Bay</td>\n",
       "    </tr>\n",
       "    <tr>\n",
       "      <th>1</th>\n",
       "      <td>49707264</td>\n",
       "      <td>NaN</td>\n",
       "      <td>2020-12-19 18:32:16.240000+00:00</td>\n",
       "      <td>Bay</td>\n",
       "    </tr>\n",
       "    <tr>\n",
       "      <th>2</th>\n",
       "      <td>48146878</td>\n",
       "      <td>NaN</td>\n",
       "      <td>2020-11-28 12:26:46.870000+00:00</td>\n",
       "      <td>Bay</td>\n",
       "    </tr>\n",
       "    <tr>\n",
       "      <th>3</th>\n",
       "      <td>53528681</td>\n",
       "      <td>NaN</td>\n",
       "      <td>2021-02-01 13:16:24.117000+00:00</td>\n",
       "      <td>Bay</td>\n",
       "    </tr>\n",
       "    <tr>\n",
       "      <th>4</th>\n",
       "      <td>17523184</td>\n",
       "      <td>NaN</td>\n",
       "      <td>2018-09-30 22:07:07.623000+00:00</td>\n",
       "      <td>Bay</td>\n",
       "    </tr>\n",
       "  </tbody>\n",
       "</table>\n",
       "</div>"
      ],
      "text/plain": [
       "    user_id birth_date                   membership_date gender\n",
       "0  22013146        NaN  2019-05-09 11:11:17.413000+00:00    Bay\n",
       "1  49707264        NaN  2020-12-19 18:32:16.240000+00:00    Bay\n",
       "2  48146878        NaN  2020-11-28 12:26:46.870000+00:00    Bay\n",
       "3  53528681        NaN  2021-02-01 13:16:24.117000+00:00    Bay\n",
       "4  17523184        NaN  2018-09-30 22:07:07.623000+00:00    Bay"
      ]
     },
     "execution_count": 8,
     "metadata": {},
     "output_type": "execute_result"
    }
   ],
   "source": [
    "df_user = pd.read_csv(\"data/user_demographics.csv\")\n",
    "df_user.head()"
   ]
  },
  {
   "cell_type": "code",
   "execution_count": 9,
   "id": "7c7efd13",
   "metadata": {},
   "outputs": [],
   "source": [
    "from datetime import datetime, timezone\n",
    "now = datetime.now(timezone.utc)"
   ]
  },
  {
   "cell_type": "code",
   "execution_count": 10,
   "id": "82ddd9ed",
   "metadata": {
    "scrolled": false
   },
   "outputs": [
    {
     "data": {
      "text/html": [
       "<div>\n",
       "<style scoped>\n",
       "    .dataframe tbody tr th:only-of-type {\n",
       "        vertical-align: middle;\n",
       "    }\n",
       "\n",
       "    .dataframe tbody tr th {\n",
       "        vertical-align: top;\n",
       "    }\n",
       "\n",
       "    .dataframe thead th {\n",
       "        text-align: right;\n",
       "    }\n",
       "</style>\n",
       "<table border=\"1\" class=\"dataframe\">\n",
       "  <thead>\n",
       "    <tr style=\"text-align: right;\">\n",
       "      <th></th>\n",
       "      <th>user_id</th>\n",
       "      <th>birth_date</th>\n",
       "      <th>membership_date</th>\n",
       "      <th>gender</th>\n",
       "      <th>new_tenure</th>\n",
       "      <th>tenure</th>\n",
       "    </tr>\n",
       "  </thead>\n",
       "  <tbody>\n",
       "    <tr>\n",
       "      <th>0</th>\n",
       "      <td>22013146</td>\n",
       "      <td>NaN</td>\n",
       "      <td>2019-05-09 11:11:17.413000+00:00</td>\n",
       "      <td>Bay</td>\n",
       "      <td>1074 days 01:05:52.285831</td>\n",
       "      <td>1074</td>\n",
       "    </tr>\n",
       "    <tr>\n",
       "      <th>1</th>\n",
       "      <td>49707264</td>\n",
       "      <td>NaN</td>\n",
       "      <td>2020-12-19 18:32:16.240000+00:00</td>\n",
       "      <td>Bay</td>\n",
       "      <td>483 days 17:44:53.458831</td>\n",
       "      <td>483</td>\n",
       "    </tr>\n",
       "    <tr>\n",
       "      <th>2</th>\n",
       "      <td>48146878</td>\n",
       "      <td>NaN</td>\n",
       "      <td>2020-11-28 12:26:46.870000+00:00</td>\n",
       "      <td>Bay</td>\n",
       "      <td>504 days 23:50:22.828831</td>\n",
       "      <td>504</td>\n",
       "    </tr>\n",
       "    <tr>\n",
       "      <th>3</th>\n",
       "      <td>53528681</td>\n",
       "      <td>NaN</td>\n",
       "      <td>2021-02-01 13:16:24.117000+00:00</td>\n",
       "      <td>Bay</td>\n",
       "      <td>439 days 23:00:45.581831</td>\n",
       "      <td>439</td>\n",
       "    </tr>\n",
       "    <tr>\n",
       "      <th>4</th>\n",
       "      <td>17523184</td>\n",
       "      <td>NaN</td>\n",
       "      <td>2018-09-30 22:07:07.623000+00:00</td>\n",
       "      <td>Bay</td>\n",
       "      <td>1294 days 14:10:02.075831</td>\n",
       "      <td>1294</td>\n",
       "    </tr>\n",
       "  </tbody>\n",
       "</table>\n",
       "</div>"
      ],
      "text/plain": [
       "    user_id birth_date                   membership_date gender  \\\n",
       "0  22013146        NaN  2019-05-09 11:11:17.413000+00:00    Bay   \n",
       "1  49707264        NaN  2020-12-19 18:32:16.240000+00:00    Bay   \n",
       "2  48146878        NaN  2020-11-28 12:26:46.870000+00:00    Bay   \n",
       "3  53528681        NaN  2021-02-01 13:16:24.117000+00:00    Bay   \n",
       "4  17523184        NaN  2018-09-30 22:07:07.623000+00:00    Bay   \n",
       "\n",
       "                  new_tenure  tenure  \n",
       "0  1074 days 01:05:52.285831    1074  \n",
       "1   483 days 17:44:53.458831     483  \n",
       "2   504 days 23:50:22.828831     504  \n",
       "3   439 days 23:00:45.581831     439  \n",
       "4  1294 days 14:10:02.075831    1294  "
      ]
     },
     "execution_count": 10,
     "metadata": {},
     "output_type": "execute_result"
    }
   ],
   "source": [
    "df_user['new_tenure'] = now - pd.to_datetime(df_user['membership_date'], errors='coerce')\n",
    "df_user['new_tenure'] = df_user['new_tenure'].astype(\"str\")\n",
    "df_user['tenure'] = df_user['new_tenure'].apply(lambda x: int(x[:x.find(\"days\")]))\n",
    "df_user.head()"
   ]
  },
  {
   "cell_type": "code",
   "execution_count": 11,
   "id": "37f16605",
   "metadata": {},
   "outputs": [],
   "source": [
    "drop_cols = [\"new_tenure\", \"birth_date\", \"membership_date\"]\n",
    "df_user.drop(drop_cols, axis=1, inplace=True)"
   ]
  },
  {
   "cell_type": "code",
   "execution_count": 12,
   "id": "9a70a5bb",
   "metadata": {},
   "outputs": [],
   "source": [
    "df = df.merge(df_user, on=\"user_id\", how=\"left\")"
   ]
  },
  {
   "cell_type": "code",
   "execution_count": 13,
   "id": "82f978e0",
   "metadata": {
    "scrolled": true
   },
   "outputs": [
    {
     "data": {
      "text/plain": [
       "(10702717, 33)"
      ]
     },
     "execution_count": 13,
     "metadata": {},
     "output_type": "execute_result"
    }
   ],
   "source": [
    "df.shape"
   ]
  },
  {
   "cell_type": "code",
   "execution_count": 14,
   "id": "76ee58d6",
   "metadata": {
    "scrolled": true
   },
   "outputs": [],
   "source": [
    "train_0 = df[df.is_returned == 0]\n",
    "train_1 = df[df.is_returned == 1]"
   ]
  },
  {
   "cell_type": "code",
   "execution_count": 15,
   "id": "eea8a694",
   "metadata": {},
   "outputs": [],
   "source": [
    "#numeric olan değerleri z_score a veriyorum\n",
    "z_score = zscore(train_0[['original_price', 'discounted_price', 'coupon_discount', \"returnRate\",\n",
    "   \"total_claim\", \"unresolved_claim\", \"unresolved_accepted_claim\", \"unresolvedclaim_percentage\",\n",
    "    \"defective_returnRate\", \"review_rates_mean\", \"review_rates_min\", \"review_rates_max\", \"tenure\"]])"
   ]
  },
  {
   "cell_type": "code",
   "execution_count": 16,
   "id": "b5e66ef5",
   "metadata": {},
   "outputs": [
    {
     "data": {
      "text/plain": [
       "(9341481, 33)"
      ]
     },
     "execution_count": 16,
     "metadata": {},
     "output_type": "execute_result"
    }
   ],
   "source": [
    "train_0.shape"
   ]
  },
  {
   "cell_type": "code",
   "execution_count": 17,
   "id": "5e5bd858",
   "metadata": {},
   "outputs": [
    {
     "data": {
      "text/plain": [
       "(7927629, 33)"
      ]
     },
     "execution_count": 17,
     "metadata": {},
     "output_type": "execute_result"
    }
   ],
   "source": [
    "abs_zscore = abs(z_score)\n",
    "train_0 = train_0[(abs_zscore < 3).all(axis=1)]\n",
    "train_0.shape"
   ]
  },
  {
   "cell_type": "code",
   "execution_count": 18,
   "id": "21daf5a5",
   "metadata": {},
   "outputs": [
    {
     "data": {
      "text/plain": [
       "(9288865, 33)"
      ]
     },
     "execution_count": 18,
     "metadata": {},
     "output_type": "execute_result"
    }
   ],
   "source": [
    "df = pd.concat([train_0, train_1])\n",
    "df.shape"
   ]
  },
  {
   "cell_type": "code",
   "execution_count": 19,
   "id": "4422910f",
   "metadata": {},
   "outputs": [],
   "source": [
    "df[\"discount_ratio\"] = df[\"discounted_price\"] / df[\"original_price\"]\n",
    "df[\"discount_with_promotion\"] = ((df[\"coupon_discount\"] * -1) + (df[\"promotion_award_value\"])).fillna(0) / 100\n",
    "df[\"is_saved_card_trx\"] = df[\"is_saved_card_trx\"].replace({True: 1, False: 0})\n",
    "df[\"has_coupon\"] = df[\"coupon_id\"].notna().astype(int)\n",
    "df[\"used_promo\"] = df[\"promotion_name\"].notna().astype(int)\n",
    "df[\"gender\"] = df[\"gender\"].replace({\"Bayan\": 1, \"Bay\": 0, \"UNKNOWN\": 1, \"kvkktalepsilindi\": 1})"
   ]
  },
  {
   "cell_type": "code",
   "execution_count": 20,
   "id": "639ba62d",
   "metadata": {},
   "outputs": [
    {
     "data": {
      "text/html": [
       "<div>\n",
       "<style scoped>\n",
       "    .dataframe tbody tr th:only-of-type {\n",
       "        vertical-align: middle;\n",
       "    }\n",
       "\n",
       "    .dataframe tbody tr th {\n",
       "        vertical-align: top;\n",
       "    }\n",
       "\n",
       "    .dataframe thead th {\n",
       "        text-align: right;\n",
       "    }\n",
       "</style>\n",
       "<table border=\"1\" class=\"dataframe\">\n",
       "  <thead>\n",
       "    <tr style=\"text-align: right;\">\n",
       "      <th></th>\n",
       "      <th>user_id</th>\n",
       "      <th>is_elite_user</th>\n",
       "      <th>supplier_id</th>\n",
       "      <th>order_line_item_id</th>\n",
       "      <th>order_parent_id</th>\n",
       "      <th>product_content_id</th>\n",
       "      <th>product_variant_id</th>\n",
       "      <th>original_price</th>\n",
       "      <th>ship_cost</th>\n",
       "      <th>is_wallet_trx</th>\n",
       "      <th>...</th>\n",
       "      <th>review_rates_min</th>\n",
       "      <th>review_rates_max</th>\n",
       "      <th>brand_id</th>\n",
       "      <th>category_id</th>\n",
       "      <th>gender</th>\n",
       "      <th>tenure</th>\n",
       "      <th>discount_ratio</th>\n",
       "      <th>discount_with_promotion</th>\n",
       "      <th>has_coupon</th>\n",
       "      <th>used_promo</th>\n",
       "    </tr>\n",
       "  </thead>\n",
       "  <tbody>\n",
       "    <tr>\n",
       "      <th>0</th>\n",
       "      <td>3941815</td>\n",
       "      <td>0</td>\n",
       "      <td>4662</td>\n",
       "      <td>901280147</td>\n",
       "      <td>595758968</td>\n",
       "      <td>95503167</td>\n",
       "      <td>159147197</td>\n",
       "      <td>79.875</td>\n",
       "      <td>8.882812</td>\n",
       "      <td>0</td>\n",
       "      <td>...</td>\n",
       "      <td>1</td>\n",
       "      <td>5</td>\n",
       "      <td>682</td>\n",
       "      <td>604</td>\n",
       "      <td>1</td>\n",
       "      <td>4027</td>\n",
       "      <td>0.650391</td>\n",
       "      <td>0.350098</td>\n",
       "      <td>0</td>\n",
       "      <td>1</td>\n",
       "    </tr>\n",
       "    <tr>\n",
       "      <th>3</th>\n",
       "      <td>3941815</td>\n",
       "      <td>0</td>\n",
       "      <td>163</td>\n",
       "      <td>901280149</td>\n",
       "      <td>595758968</td>\n",
       "      <td>36313798</td>\n",
       "      <td>64622938</td>\n",
       "      <td>130.000</td>\n",
       "      <td>9.398438</td>\n",
       "      <td>0</td>\n",
       "      <td>...</td>\n",
       "      <td>1</td>\n",
       "      <td>5</td>\n",
       "      <td>121</td>\n",
       "      <td>604</td>\n",
       "      <td>1</td>\n",
       "      <td>4027</td>\n",
       "      <td>0.461182</td>\n",
       "      <td>0.399902</td>\n",
       "      <td>0</td>\n",
       "      <td>1</td>\n",
       "    </tr>\n",
       "    <tr>\n",
       "      <th>4</th>\n",
       "      <td>15996105</td>\n",
       "      <td>1</td>\n",
       "      <td>968</td>\n",
       "      <td>901279297</td>\n",
       "      <td>595758987</td>\n",
       "      <td>96930601</td>\n",
       "      <td>161408176</td>\n",
       "      <td>90.000</td>\n",
       "      <td>9.398438</td>\n",
       "      <td>0</td>\n",
       "      <td>...</td>\n",
       "      <td>2</td>\n",
       "      <td>5</td>\n",
       "      <td>40</td>\n",
       "      <td>1182</td>\n",
       "      <td>1</td>\n",
       "      <td>1458</td>\n",
       "      <td>0.799805</td>\n",
       "      <td>0.199951</td>\n",
       "      <td>0</td>\n",
       "      <td>1</td>\n",
       "    </tr>\n",
       "    <tr>\n",
       "      <th>5</th>\n",
       "      <td>11914979</td>\n",
       "      <td>1</td>\n",
       "      <td>968</td>\n",
       "      <td>901280115</td>\n",
       "      <td>595759022</td>\n",
       "      <td>80139132</td>\n",
       "      <td>135798900</td>\n",
       "      <td>57.000</td>\n",
       "      <td>1.342773</td>\n",
       "      <td>0</td>\n",
       "      <td>...</td>\n",
       "      <td>1</td>\n",
       "      <td>5</td>\n",
       "      <td>15508</td>\n",
       "      <td>530</td>\n",
       "      <td>1</td>\n",
       "      <td>2235</td>\n",
       "      <td>0.500000</td>\n",
       "      <td>0.500000</td>\n",
       "      <td>0</td>\n",
       "      <td>1</td>\n",
       "    </tr>\n",
       "    <tr>\n",
       "      <th>6</th>\n",
       "      <td>11914979</td>\n",
       "      <td>1</td>\n",
       "      <td>968</td>\n",
       "      <td>901280114</td>\n",
       "      <td>595759022</td>\n",
       "      <td>82581293</td>\n",
       "      <td>139386629</td>\n",
       "      <td>70.000</td>\n",
       "      <td>1.342773</td>\n",
       "      <td>0</td>\n",
       "      <td>...</td>\n",
       "      <td>2</td>\n",
       "      <td>5</td>\n",
       "      <td>15508</td>\n",
       "      <td>601</td>\n",
       "      <td>1</td>\n",
       "      <td>2235</td>\n",
       "      <td>0.399902</td>\n",
       "      <td>0.600098</td>\n",
       "      <td>0</td>\n",
       "      <td>1</td>\n",
       "    </tr>\n",
       "  </tbody>\n",
       "</table>\n",
       "<p>5 rows × 29 columns</p>\n",
       "</div>"
      ],
      "text/plain": [
       "    user_id  is_elite_user  supplier_id  order_line_item_id  order_parent_id  \\\n",
       "0   3941815              0         4662           901280147        595758968   \n",
       "3   3941815              0          163           901280149        595758968   \n",
       "4  15996105              1          968           901279297        595758987   \n",
       "5  11914979              1          968           901280115        595759022   \n",
       "6  11914979              1          968           901280114        595759022   \n",
       "\n",
       "   product_content_id  product_variant_id  original_price  ship_cost  \\\n",
       "0            95503167           159147197          79.875   8.882812   \n",
       "3            36313798            64622938         130.000   9.398438   \n",
       "4            96930601           161408176          90.000   9.398438   \n",
       "5            80139132           135798900          57.000   1.342773   \n",
       "6            82581293           139386629          70.000   1.342773   \n",
       "\n",
       "   is_wallet_trx  ...  review_rates_min  review_rates_max  brand_id  \\\n",
       "0              0  ...                 1                 5       682   \n",
       "3              0  ...                 1                 5       121   \n",
       "4              0  ...                 2                 5        40   \n",
       "5              0  ...                 1                 5     15508   \n",
       "6              0  ...                 2                 5     15508   \n",
       "\n",
       "   category_id  gender  tenure  discount_ratio  discount_with_promotion  \\\n",
       "0          604       1    4027        0.650391                 0.350098   \n",
       "3          604       1    4027        0.461182                 0.399902   \n",
       "4         1182       1    1458        0.799805                 0.199951   \n",
       "5          530       1    2235        0.500000                 0.500000   \n",
       "6          601       1    2235        0.399902                 0.600098   \n",
       "\n",
       "   has_coupon  used_promo  \n",
       "0           0           1  \n",
       "3           0           1  \n",
       "4           0           1  \n",
       "5           0           1  \n",
       "6           0           1  \n",
       "\n",
       "[5 rows x 29 columns]"
      ]
     },
     "execution_count": 20,
     "metadata": {},
     "output_type": "execute_result"
    }
   ],
   "source": [
    "drop_cols = [\"order_date\", \"coupon_id\", \"promotion_name\", \"discounted_price\", \n",
    "             \"promotion_award_value\", \"coupon_discount\", \"brand_name\", \"category_name\"]\n",
    "\n",
    "df.drop(drop_cols, axis=1, inplace=True)\n",
    "df.head()"
   ]
  },
  {
   "cell_type": "code",
   "execution_count": 21,
   "id": "17aa1370",
   "metadata": {},
   "outputs": [],
   "source": [
    "df[\"ship_cost\"].fillna(df[\"ship_cost\"].median(), inplace=True)"
   ]
  },
  {
   "cell_type": "code",
   "execution_count": 22,
   "id": "65a98111",
   "metadata": {},
   "outputs": [],
   "source": [
    "with open(\"data/user_return_ratio.txt\") as f:\n",
    "    user_return_ratio = eval(f.read())"
   ]
  },
  {
   "cell_type": "code",
   "execution_count": 23,
   "id": "c4dc96a8",
   "metadata": {},
   "outputs": [],
   "source": [
    "df[\"user_return_ratio\"] = df[\"user_id\"].apply(lambda x: user_return_ratio[x])"
   ]
  },
  {
   "cell_type": "code",
   "execution_count": 24,
   "id": "4f548ac5",
   "metadata": {
    "scrolled": false
   },
   "outputs": [
    {
     "data": {
      "text/plain": [
       "user_id                       0\n",
       "is_elite_user                 0\n",
       "supplier_id                   0\n",
       "order_line_item_id            0\n",
       "order_parent_id               0\n",
       "product_content_id            0\n",
       "product_variant_id            0\n",
       "original_price                0\n",
       "ship_cost                     0\n",
       "is_wallet_trx                 0\n",
       "is_saved_card_trx             0\n",
       "is_returned                   0\n",
       "returnRate                    0\n",
       "total_claim                   0\n",
       "unresolved_claim              0\n",
       "unresolved_accepted_claim     0\n",
       "unresolvedclaim_percentage    0\n",
       "defective_returnRate          0\n",
       "review_rates_mean             0\n",
       "review_rates_min              0\n",
       "review_rates_max              0\n",
       "brand_id                      0\n",
       "category_id                   0\n",
       "gender                        0\n",
       "tenure                        0\n",
       "discount_ratio                2\n",
       "discount_with_promotion       0\n",
       "has_coupon                    0\n",
       "used_promo                    0\n",
       "user_return_ratio             0\n",
       "dtype: int64"
      ]
     },
     "execution_count": 24,
     "metadata": {},
     "output_type": "execute_result"
    }
   ],
   "source": [
    "df.isnull().sum()"
   ]
  },
  {
   "cell_type": "code",
   "execution_count": 25,
   "id": "ae1bec3e",
   "metadata": {},
   "outputs": [
    {
     "data": {
      "text/plain": [
       "4143211    0.0\n",
       "5101449    0.0\n",
       "Name: is_returned, dtype: float16"
      ]
     },
     "execution_count": 25,
     "metadata": {},
     "output_type": "execute_result"
    }
   ],
   "source": [
    "df[df[\"discount_ratio\"].isna()][\"is_returned\"]"
   ]
  },
  {
   "cell_type": "code",
   "execution_count": 27,
   "id": "a73d843d",
   "metadata": {},
   "outputs": [],
   "source": [
    "df.dropna(subset=['discount_ratio'], inplace=True)"
   ]
  },
  {
   "cell_type": "code",
   "execution_count": 29,
   "id": "da4cd1e9",
   "metadata": {
    "scrolled": true
   },
   "outputs": [
    {
     "data": {
      "text/plain": [
       "(9288863, 30)"
      ]
     },
     "execution_count": 29,
     "metadata": {},
     "output_type": "execute_result"
    }
   ],
   "source": [
    "df.shape"
   ]
  },
  {
   "cell_type": "code",
   "execution_count": 31,
   "id": "018ecbd4",
   "metadata": {},
   "outputs": [],
   "source": [
    "X_train, X_val, y_train, y_val = train_test_split(df.drop(\"is_returned\", axis=1),\n",
    "                                                df[\"is_returned\"], test_size=0.2,\n",
    "                                                  stratify=df[\"is_returned\"], random_state=0)"
   ]
  },
  {
   "cell_type": "markdown",
   "id": "4494fb32",
   "metadata": {},
   "source": [
    "### LGBM Model"
   ]
  },
  {
   "cell_type": "code",
   "execution_count": 32,
   "id": "68673d58",
   "metadata": {},
   "outputs": [],
   "source": [
    "model = LGBMClassifier(random_state=0)"
   ]
  },
  {
   "cell_type": "code",
   "execution_count": 33,
   "id": "7275e432",
   "metadata": {},
   "outputs": [
    {
     "data": {
      "text/plain": [
       "LGBMClassifier(random_state=0)"
      ]
     },
     "execution_count": 33,
     "metadata": {},
     "output_type": "execute_result"
    }
   ],
   "source": [
    "model.fit(X_train, y_train)"
   ]
  },
  {
   "cell_type": "code",
   "execution_count": 34,
   "id": "4bdb9075",
   "metadata": {},
   "outputs": [
    {
     "name": "stdout",
     "output_type": "stream",
     "text": [
      "[[1554663   30863]\n",
      " [  68262  203985]]\n",
      "              precision    recall  f1-score   support\n",
      "\n",
      "         0.0       0.96      0.98      0.97   1585526\n",
      "         1.0       0.87      0.75      0.80    272247\n",
      "\n",
      "    accuracy                           0.95   1857773\n",
      "   macro avg       0.91      0.86      0.89   1857773\n",
      "weighted avg       0.94      0.95      0.94   1857773\n",
      "\n"
     ]
    }
   ],
   "source": [
    "preds = model.predict(X_val)\n",
    "\n",
    "print(confusion_matrix(y_val, preds))\n",
    "print(classification_report(y_val, preds))"
   ]
  },
  {
   "cell_type": "code",
   "execution_count": 53,
   "id": "ceedc229",
   "metadata": {},
   "outputs": [
    {
     "data": {
      "text/plain": [
       "0.8045238071761702"
      ]
     },
     "execution_count": 53,
     "metadata": {},
     "output_type": "execute_result"
    }
   ],
   "source": [
    "from sklearn.metrics import f1_score\n",
    "\n",
    "f1_score(y_val, preds, average='binary')"
   ]
  },
  {
   "cell_type": "code",
   "execution_count": 50,
   "id": "feb6e8b5",
   "metadata": {},
   "outputs": [
    {
     "data": {
      "text/plain": [
       "<AxesSubplot:title={'center':'Feature importance'}, xlabel='Feature importance', ylabel='Features'>"
      ]
     },
     "execution_count": 50,
     "metadata": {},
     "output_type": "execute_result"
    },
    {
     "data": {
      "image/png": "[encoded data removed]",
      "text/plain": [
       "<Figure size 432x288 with 1 Axes>"
      ]
     },
     "metadata": {
      "needs_background": "light"
     },
     "output_type": "display_data"
    }
   ],
   "source": [
    "plot_importance(model)"
   ]
  },
  {
   "cell_type": "code",
   "execution_count": null,
   "id": "612098f9",
   "metadata": {},
   "outputs": [],
   "source": []
  },
  {
   "cell_type": "code",
   "execution_count": null,
   "id": "b4a80f3d",
   "metadata": {},
   "outputs": [],
   "source": []
  },
  {
   "cell_type": "markdown",
   "id": "fb8d2399",
   "metadata": {},
   "source": [
    "### Preparing Submission File for LGBM Model"
   ]
  },
  {
   "cell_type": "code",
   "execution_count": 38,
   "id": "3df5a6c3",
   "metadata": {},
   "outputs": [],
   "source": [
    "df_test = df_test.merge(df_user, on=\"user_id\", how=\"left\")"
   ]
  },
  {
   "cell_type": "code",
   "execution_count": 39,
   "id": "01322fa4",
   "metadata": {},
   "outputs": [],
   "source": [
    "df_test[\"discount_ratio\"] = df_test[\"discounted_price\"] / df_test[\"original_price\"]\n",
    "df_test[\"discount_with_promotion\"] = ((df_test[\"coupon_discount\"] * -1) + (df_test[\"promotion_award_value\"])).fillna(0) / 100\n",
    "df_test[\"has_coupon\"] = df_test[\"coupon_id\"].notna().astype(int)\n",
    "df_test[\"used_promo\"] = df_test[\"promotion_name\"].notna().astype(int)\n",
    "df_test[\"user_return_ratio\"] = df_test[\"user_id\"].apply(lambda x: user_return_ratio[x])\n",
    "df_test[\"is_saved_card_trx\"] = df_test[\"is_saved_card_trx\"].replace({True: 1, False: 0})\n",
    "df_test[\"gender\"] = df_test[\"gender\"].replace({\"Bayan\": 1, \"Bay\": 0, \"UNKNOWN\": 1, \"kvkktalepsilindi\": 1})"
   ]
  },
  {
   "cell_type": "code",
   "execution_count": 40,
   "id": "de91ebae",
   "metadata": {},
   "outputs": [
    {
     "data": {
      "text/plain": [
       "(487745, 30)"
      ]
     },
     "execution_count": 40,
     "metadata": {},
     "output_type": "execute_result"
    }
   ],
   "source": [
    "df_test.drop(drop_cols, axis=1, inplace=True)\n",
    "df_test.shape"
   ]
  },
  {
   "cell_type": "code",
   "execution_count": 41,
   "id": "213c794e",
   "metadata": {},
   "outputs": [
    {
     "data": {
      "text/html": [
       "<div>\n",
       "<style scoped>\n",
       "    .dataframe tbody tr th:only-of-type {\n",
       "        vertical-align: middle;\n",
       "    }\n",
       "\n",
       "    .dataframe tbody tr th {\n",
       "        vertical-align: top;\n",
       "    }\n",
       "\n",
       "    .dataframe thead th {\n",
       "        text-align: right;\n",
       "    }\n",
       "</style>\n",
       "<table border=\"1\" class=\"dataframe\">\n",
       "  <thead>\n",
       "    <tr style=\"text-align: right;\">\n",
       "      <th></th>\n",
       "      <th>user_id</th>\n",
       "      <th>is_elite_user</th>\n",
       "      <th>supplier_id</th>\n",
       "      <th>order_line_item_id</th>\n",
       "      <th>order_parent_id</th>\n",
       "      <th>product_content_id</th>\n",
       "      <th>product_variant_id</th>\n",
       "      <th>original_price</th>\n",
       "      <th>ship_cost</th>\n",
       "      <th>is_wallet_trx</th>\n",
       "      <th>...</th>\n",
       "      <th>brand_id</th>\n",
       "      <th>category_id</th>\n",
       "      <th>gender</th>\n",
       "      <th>tenure</th>\n",
       "      <th>discount_ratio</th>\n",
       "      <th>discount_with_promotion</th>\n",
       "      <th>has_coupon</th>\n",
       "      <th>used_promo</th>\n",
       "      <th>user_return_ratio</th>\n",
       "      <th>expected</th>\n",
       "    </tr>\n",
       "  </thead>\n",
       "  <tbody>\n",
       "    <tr>\n",
       "      <th>0</th>\n",
       "      <td>5323264</td>\n",
       "      <td>0</td>\n",
       "      <td>823</td>\n",
       "      <td>1106635517</td>\n",
       "      <td>721367415</td>\n",
       "      <td>55264030</td>\n",
       "      <td>97997774</td>\n",
       "      <td>650.000</td>\n",
       "      <td>8.882812</td>\n",
       "      <td>0</td>\n",
       "      <td>...</td>\n",
       "      <td>2020</td>\n",
       "      <td>1182</td>\n",
       "      <td>1</td>\n",
       "      <td>3850</td>\n",
       "      <td>0.399902</td>\n",
       "      <td>0.000000</td>\n",
       "      <td>0</td>\n",
       "      <td>0</td>\n",
       "      <td>0.842105</td>\n",
       "      <td>1.0</td>\n",
       "    </tr>\n",
       "    <tr>\n",
       "      <th>1</th>\n",
       "      <td>18238989</td>\n",
       "      <td>1</td>\n",
       "      <td>968</td>\n",
       "      <td>1106636273</td>\n",
       "      <td>721367451</td>\n",
       "      <td>4032918</td>\n",
       "      <td>16332708</td>\n",
       "      <td>105.000</td>\n",
       "      <td>9.398438</td>\n",
       "      <td>1</td>\n",
       "      <td>...</td>\n",
       "      <td>15508</td>\n",
       "      <td>604</td>\n",
       "      <td>1</td>\n",
       "      <td>1251</td>\n",
       "      <td>0.700195</td>\n",
       "      <td>0.300049</td>\n",
       "      <td>0</td>\n",
       "      <td>1</td>\n",
       "      <td>0.000000</td>\n",
       "      <td>0.0</td>\n",
       "    </tr>\n",
       "    <tr>\n",
       "      <th>2</th>\n",
       "      <td>13354100</td>\n",
       "      <td>1</td>\n",
       "      <td>346</td>\n",
       "      <td>1106635244</td>\n",
       "      <td>721367483</td>\n",
       "      <td>98066435</td>\n",
       "      <td>163202748</td>\n",
       "      <td>79.875</td>\n",
       "      <td>10.671875</td>\n",
       "      <td>0</td>\n",
       "      <td>...</td>\n",
       "      <td>381</td>\n",
       "      <td>581</td>\n",
       "      <td>1</td>\n",
       "      <td>1851</td>\n",
       "      <td>0.500000</td>\n",
       "      <td>0.000000</td>\n",
       "      <td>0</td>\n",
       "      <td>0</td>\n",
       "      <td>0.299213</td>\n",
       "      <td>0.0</td>\n",
       "    </tr>\n",
       "    <tr>\n",
       "      <th>3</th>\n",
       "      <td>49613268</td>\n",
       "      <td>1</td>\n",
       "      <td>335931</td>\n",
       "      <td>1106634651</td>\n",
       "      <td>721367533</td>\n",
       "      <td>87599480</td>\n",
       "      <td>146668239</td>\n",
       "      <td>120.000</td>\n",
       "      <td>11.328125</td>\n",
       "      <td>0</td>\n",
       "      <td>...</td>\n",
       "      <td>1027526</td>\n",
       "      <td>597</td>\n",
       "      <td>1</td>\n",
       "      <td>484</td>\n",
       "      <td>0.541504</td>\n",
       "      <td>0.399902</td>\n",
       "      <td>0</td>\n",
       "      <td>1</td>\n",
       "      <td>0.000000</td>\n",
       "      <td>0.0</td>\n",
       "    </tr>\n",
       "    <tr>\n",
       "      <th>4</th>\n",
       "      <td>7252871</td>\n",
       "      <td>1</td>\n",
       "      <td>201</td>\n",
       "      <td>1106637202</td>\n",
       "      <td>721367537</td>\n",
       "      <td>96509590</td>\n",
       "      <td>160768055</td>\n",
       "      <td>105.750</td>\n",
       "      <td>8.882812</td>\n",
       "      <td>0</td>\n",
       "      <td>...</td>\n",
       "      <td>36426</td>\n",
       "      <td>604</td>\n",
       "      <td>1</td>\n",
       "      <td>3685</td>\n",
       "      <td>0.562500</td>\n",
       "      <td>0.250000</td>\n",
       "      <td>0</td>\n",
       "      <td>1</td>\n",
       "      <td>0.089286</td>\n",
       "      <td>0.0</td>\n",
       "    </tr>\n",
       "  </tbody>\n",
       "</table>\n",
       "<p>5 rows × 31 columns</p>\n",
       "</div>"
      ],
      "text/plain": [
       "    user_id  is_elite_user  supplier_id  order_line_item_id  order_parent_id  \\\n",
       "0   5323264              0          823          1106635517        721367415   \n",
       "1  18238989              1          968          1106636273        721367451   \n",
       "2  13354100              1          346          1106635244        721367483   \n",
       "3  49613268              1       335931          1106634651        721367533   \n",
       "4   7252871              1          201          1106637202        721367537   \n",
       "\n",
       "   product_content_id  product_variant_id  original_price  ship_cost  \\\n",
       "0            55264030            97997774         650.000   8.882812   \n",
       "1             4032918            16332708         105.000   9.398438   \n",
       "2            98066435           163202748          79.875  10.671875   \n",
       "3            87599480           146668239         120.000  11.328125   \n",
       "4            96509590           160768055         105.750   8.882812   \n",
       "\n",
       "   is_wallet_trx  ...  brand_id  category_id  gender  tenure  discount_ratio  \\\n",
       "0              0  ...      2020         1182       1    3850        0.399902   \n",
       "1              1  ...     15508          604       1    1251        0.700195   \n",
       "2              0  ...       381          581       1    1851        0.500000   \n",
       "3              0  ...   1027526          597       1     484        0.541504   \n",
       "4              0  ...     36426          604       1    3685        0.562500   \n",
       "\n",
       "   discount_with_promotion  has_coupon  used_promo  user_return_ratio  \\\n",
       "0                 0.000000           0           0           0.842105   \n",
       "1                 0.300049           0           1           0.000000   \n",
       "2                 0.000000           0           0           0.299213   \n",
       "3                 0.399902           0           1           0.000000   \n",
       "4                 0.250000           0           1           0.089286   \n",
       "\n",
       "   expected  \n",
       "0       1.0  \n",
       "1       0.0  \n",
       "2       0.0  \n",
       "3       0.0  \n",
       "4       0.0  \n",
       "\n",
       "[5 rows x 31 columns]"
      ]
     },
     "execution_count": 41,
     "metadata": {},
     "output_type": "execute_result"
    }
   ],
   "source": [
    "test_preds = model.predict(df_test[X_train.columns])\n",
    "df_test[\"expected\"] = test_preds\n",
    "df_test.head()"
   ]
  },
  {
   "cell_type": "code",
   "execution_count": 42,
   "id": "9e890834",
   "metadata": {},
   "outputs": [],
   "source": [
    "df_test = df_test.groupby(by=[\"user_id\" , \"product_content_id\" , \"order_parent_id\"])[\"expected\"].max().reset_index()"
   ]
  },
  {
   "cell_type": "code",
   "execution_count": 43,
   "id": "1e303c9e",
   "metadata": {
    "scrolled": true
   },
   "outputs": [
    {
     "data": {
      "text/html": [
       "<div>\n",
       "<style scoped>\n",
       "    .dataframe tbody tr th:only-of-type {\n",
       "        vertical-align: middle;\n",
       "    }\n",
       "\n",
       "    .dataframe tbody tr th {\n",
       "        vertical-align: top;\n",
       "    }\n",
       "\n",
       "    .dataframe thead th {\n",
       "        text-align: right;\n",
       "    }\n",
       "</style>\n",
       "<table border=\"1\" class=\"dataframe\">\n",
       "  <thead>\n",
       "    <tr style=\"text-align: right;\">\n",
       "      <th></th>\n",
       "      <th>user_id</th>\n",
       "      <th>product_content_id</th>\n",
       "      <th>order_parent_id</th>\n",
       "    </tr>\n",
       "  </thead>\n",
       "  <tbody>\n",
       "    <tr>\n",
       "      <th>0</th>\n",
       "      <td>18115</td>\n",
       "      <td>87073974</td>\n",
       "      <td>726348863</td>\n",
       "    </tr>\n",
       "    <tr>\n",
       "      <th>1</th>\n",
       "      <td>27588</td>\n",
       "      <td>118753298</td>\n",
       "      <td>723169934</td>\n",
       "    </tr>\n",
       "    <tr>\n",
       "      <th>2</th>\n",
       "      <td>29165</td>\n",
       "      <td>35699988</td>\n",
       "      <td>724122443</td>\n",
       "    </tr>\n",
       "    <tr>\n",
       "      <th>3</th>\n",
       "      <td>29969</td>\n",
       "      <td>5893187</td>\n",
       "      <td>722342150</td>\n",
       "    </tr>\n",
       "    <tr>\n",
       "      <th>4</th>\n",
       "      <td>35107</td>\n",
       "      <td>93897418</td>\n",
       "      <td>723421057</td>\n",
       "    </tr>\n",
       "  </tbody>\n",
       "</table>\n",
       "</div>"
      ],
      "text/plain": [
       "   user_id  product_content_id  order_parent_id\n",
       "0    18115            87073974        726348863\n",
       "1    27588           118753298        723169934\n",
       "2    29165            35699988        724122443\n",
       "3    29969             5893187        722342150\n",
       "4    35107            93897418        723421057"
      ]
     },
     "execution_count": 43,
     "metadata": {},
     "output_type": "execute_result"
    }
   ],
   "source": [
    "sub_data[[\"user_id\" , \"product_content_id\" , \"order_parent_id\"]] = sub_data[\"id\"].str.split(\"|\", expand=True)\n",
    "sub_data = sub_data[[\"user_id\" , \"product_content_id\" , \"order_parent_id\"]].astype(int)\n",
    "sub_data.head()"
   ]
  },
  {
   "cell_type": "code",
   "execution_count": 44,
   "id": "0e2a8c97",
   "metadata": {},
   "outputs": [
    {
     "data": {
      "text/html": [
       "<div>\n",
       "<style scoped>\n",
       "    .dataframe tbody tr th:only-of-type {\n",
       "        vertical-align: middle;\n",
       "    }\n",
       "\n",
       "    .dataframe tbody tr th {\n",
       "        vertical-align: top;\n",
       "    }\n",
       "\n",
       "    .dataframe thead th {\n",
       "        text-align: right;\n",
       "    }\n",
       "</style>\n",
       "<table border=\"1\" class=\"dataframe\">\n",
       "  <thead>\n",
       "    <tr style=\"text-align: right;\">\n",
       "      <th></th>\n",
       "      <th>user_id</th>\n",
       "      <th>product_content_id</th>\n",
       "      <th>order_parent_id</th>\n",
       "      <th>expected</th>\n",
       "    </tr>\n",
       "  </thead>\n",
       "  <tbody>\n",
       "    <tr>\n",
       "      <th>0</th>\n",
       "      <td>18115</td>\n",
       "      <td>87073974</td>\n",
       "      <td>726348863</td>\n",
       "      <td>1</td>\n",
       "    </tr>\n",
       "    <tr>\n",
       "      <th>1</th>\n",
       "      <td>27588</td>\n",
       "      <td>118753298</td>\n",
       "      <td>723169934</td>\n",
       "      <td>1</td>\n",
       "    </tr>\n",
       "    <tr>\n",
       "      <th>2</th>\n",
       "      <td>29165</td>\n",
       "      <td>35699988</td>\n",
       "      <td>724122443</td>\n",
       "      <td>0</td>\n",
       "    </tr>\n",
       "    <tr>\n",
       "      <th>3</th>\n",
       "      <td>29969</td>\n",
       "      <td>5893187</td>\n",
       "      <td>722342150</td>\n",
       "      <td>1</td>\n",
       "    </tr>\n",
       "    <tr>\n",
       "      <th>4</th>\n",
       "      <td>35107</td>\n",
       "      <td>93897418</td>\n",
       "      <td>723421057</td>\n",
       "      <td>0</td>\n",
       "    </tr>\n",
       "  </tbody>\n",
       "</table>\n",
       "</div>"
      ],
      "text/plain": [
       "   user_id  product_content_id  order_parent_id  expected\n",
       "0    18115            87073974        726348863         1\n",
       "1    27588           118753298        723169934         1\n",
       "2    29165            35699988        724122443         0\n",
       "3    29969             5893187        722342150         1\n",
       "4    35107            93897418        723421057         0"
      ]
     },
     "execution_count": 44,
     "metadata": {},
     "output_type": "execute_result"
    }
   ],
   "source": [
    "sub_final = sub_data.merge(df_test, on=[\"user_id\" , \"product_content_id\" , \"order_parent_id\"], how=\"left\")\n",
    "sub_final.expected = sub_final.expected.astype(int)\n",
    "sub_final.head()"
   ]
  },
  {
   "cell_type": "code",
   "execution_count": 45,
   "id": "5036a4b6",
   "metadata": {},
   "outputs": [
    {
     "data": {
      "text/html": [
       "<div>\n",
       "<style scoped>\n",
       "    .dataframe tbody tr th:only-of-type {\n",
       "        vertical-align: middle;\n",
       "    }\n",
       "\n",
       "    .dataframe tbody tr th {\n",
       "        vertical-align: top;\n",
       "    }\n",
       "\n",
       "    .dataframe thead th {\n",
       "        text-align: right;\n",
       "    }\n",
       "</style>\n",
       "<table border=\"1\" class=\"dataframe\">\n",
       "  <thead>\n",
       "    <tr style=\"text-align: right;\">\n",
       "      <th></th>\n",
       "      <th>user_id</th>\n",
       "      <th>product_content_id</th>\n",
       "      <th>order_parent_id</th>\n",
       "      <th>expected</th>\n",
       "      <th>id</th>\n",
       "    </tr>\n",
       "  </thead>\n",
       "  <tbody>\n",
       "    <tr>\n",
       "      <th>0</th>\n",
       "      <td>18115</td>\n",
       "      <td>87073974</td>\n",
       "      <td>726348863</td>\n",
       "      <td>1</td>\n",
       "      <td>18115|87073974|726348863</td>\n",
       "    </tr>\n",
       "    <tr>\n",
       "      <th>1</th>\n",
       "      <td>27588</td>\n",
       "      <td>118753298</td>\n",
       "      <td>723169934</td>\n",
       "      <td>1</td>\n",
       "      <td>27588|118753298|723169934</td>\n",
       "    </tr>\n",
       "    <tr>\n",
       "      <th>2</th>\n",
       "      <td>29165</td>\n",
       "      <td>35699988</td>\n",
       "      <td>724122443</td>\n",
       "      <td>0</td>\n",
       "      <td>29165|35699988|724122443</td>\n",
       "    </tr>\n",
       "    <tr>\n",
       "      <th>3</th>\n",
       "      <td>29969</td>\n",
       "      <td>5893187</td>\n",
       "      <td>722342150</td>\n",
       "      <td>1</td>\n",
       "      <td>29969|5893187|722342150</td>\n",
       "    </tr>\n",
       "    <tr>\n",
       "      <th>4</th>\n",
       "      <td>35107</td>\n",
       "      <td>93897418</td>\n",
       "      <td>723421057</td>\n",
       "      <td>0</td>\n",
       "      <td>35107|93897418|723421057</td>\n",
       "    </tr>\n",
       "  </tbody>\n",
       "</table>\n",
       "</div>"
      ],
      "text/plain": [
       "   user_id  product_content_id  order_parent_id  expected  \\\n",
       "0    18115            87073974        726348863         1   \n",
       "1    27588           118753298        723169934         1   \n",
       "2    29165            35699988        724122443         0   \n",
       "3    29969             5893187        722342150         1   \n",
       "4    35107            93897418        723421057         0   \n",
       "\n",
       "                          id  \n",
       "0   18115|87073974|726348863  \n",
       "1  27588|118753298|723169934  \n",
       "2   29165|35699988|724122443  \n",
       "3    29969|5893187|722342150  \n",
       "4   35107|93897418|723421057  "
      ]
     },
     "execution_count": 45,
     "metadata": {},
     "output_type": "execute_result"
    }
   ],
   "source": [
    "sub_final[\"id\"] = sub_final.apply(lambda x: str(x.user_id) + \"|\" + \n",
    "                                  str(x.product_content_id) + \"|\" + \n",
    "                                  str(x.order_parent_id), axis=1)\n",
    "\n",
    "sub_final.head()"
   ]
  },
  {
   "cell_type": "code",
   "execution_count": 46,
   "id": "df90a99f",
   "metadata": {},
   "outputs": [
    {
     "data": {
      "text/plain": [
       "0    0.851559\n",
       "1    0.148441\n",
       "Name: expected, dtype: float64"
      ]
     },
     "execution_count": 46,
     "metadata": {},
     "output_type": "execute_result"
    }
   ],
   "source": [
    "sub_final.expected.value_counts(normalize=True)"
   ]
  },
  {
   "cell_type": "code",
   "execution_count": 47,
   "id": "3a752ff3",
   "metadata": {},
   "outputs": [],
   "source": [
    "sub_final[[\"id\", \"expected\"]].to_csv(\"sub_file_1704.csv\", index=False)"
   ]
  },
  {
   "cell_type": "code",
   "execution_count": 49,
   "id": "4d7f9b03",
   "metadata": {},
   "outputs": [
    {
     "data": {
      "text/html": [
       "<div>\n",
       "<style scoped>\n",
       "    .dataframe tbody tr th:only-of-type {\n",
       "        vertical-align: middle;\n",
       "    }\n",
       "\n",
       "    .dataframe tbody tr th {\n",
       "        vertical-align: top;\n",
       "    }\n",
       "\n",
       "    .dataframe thead th {\n",
       "        text-align: right;\n",
       "    }\n",
       "</style>\n",
       "<table border=\"1\" class=\"dataframe\">\n",
       "  <thead>\n",
       "    <tr style=\"text-align: right;\">\n",
       "      <th></th>\n",
       "      <th>id</th>\n",
       "      <th>expected</th>\n",
       "    </tr>\n",
       "  </thead>\n",
       "  <tbody>\n",
       "    <tr>\n",
       "      <th>0</th>\n",
       "      <td>18115|87073974|726348863</td>\n",
       "      <td>1</td>\n",
       "    </tr>\n",
       "    <tr>\n",
       "      <th>1</th>\n",
       "      <td>27588|118753298|723169934</td>\n",
       "      <td>1</td>\n",
       "    </tr>\n",
       "    <tr>\n",
       "      <th>2</th>\n",
       "      <td>29165|35699988|724122443</td>\n",
       "      <td>0</td>\n",
       "    </tr>\n",
       "    <tr>\n",
       "      <th>3</th>\n",
       "      <td>29969|5893187|722342150</td>\n",
       "      <td>1</td>\n",
       "    </tr>\n",
       "    <tr>\n",
       "      <th>4</th>\n",
       "      <td>35107|93897418|723421057</td>\n",
       "      <td>0</td>\n",
       "    </tr>\n",
       "    <tr>\n",
       "      <th>...</th>\n",
       "      <td>...</td>\n",
       "      <td>...</td>\n",
       "    </tr>\n",
       "    <tr>\n",
       "      <th>7466</th>\n",
       "      <td>71083899|100019570|728638514</td>\n",
       "      <td>1</td>\n",
       "    </tr>\n",
       "    <tr>\n",
       "      <th>7467</th>\n",
       "      <td>71106534|35624085|725372928</td>\n",
       "      <td>0</td>\n",
       "    </tr>\n",
       "    <tr>\n",
       "      <th>7468</th>\n",
       "      <td>71115350|94438742|725291348</td>\n",
       "      <td>0</td>\n",
       "    </tr>\n",
       "    <tr>\n",
       "      <th>7469</th>\n",
       "      <td>71115350|100017676|725291348</td>\n",
       "      <td>0</td>\n",
       "    </tr>\n",
       "    <tr>\n",
       "      <th>7470</th>\n",
       "      <td>71160557|87073974|726377172</td>\n",
       "      <td>1</td>\n",
       "    </tr>\n",
       "  </tbody>\n",
       "</table>\n",
       "<p>7471 rows × 2 columns</p>\n",
       "</div>"
      ],
      "text/plain": [
       "                                id  expected\n",
       "0         18115|87073974|726348863         1\n",
       "1        27588|118753298|723169934         1\n",
       "2         29165|35699988|724122443         0\n",
       "3          29969|5893187|722342150         1\n",
       "4         35107|93897418|723421057         0\n",
       "...                            ...       ...\n",
       "7466  71083899|100019570|728638514         1\n",
       "7467   71106534|35624085|725372928         0\n",
       "7468   71115350|94438742|725291348         0\n",
       "7469  71115350|100017676|725291348         0\n",
       "7470   71160557|87073974|726377172         1\n",
       "\n",
       "[7471 rows x 2 columns]"
      ]
     },
     "execution_count": 49,
     "metadata": {},
     "output_type": "execute_result"
    }
   ],
   "source": [
    "sub_final[[\"id\", \"expected\"]]"
   ]
  },
  {
   "cell_type": "code",
   "execution_count": null,
   "id": "bb26d324",
   "metadata": {},
   "outputs": [],
   "source": []
  },
  {
   "cell_type": "code",
   "execution_count": null,
   "id": "d295361e",
   "metadata": {},
   "outputs": [],
   "source": []
  },
  {
   "cell_type": "markdown",
   "id": "4aea4643",
   "metadata": {},
   "source": [
    "### XGBoost Model"
   ]
  },
  {
   "cell_type": "code",
   "execution_count": 35,
   "id": "bc8198d5",
   "metadata": {},
   "outputs": [],
   "source": [
    "from xgboost import XGBClassifier"
   ]
  },
  {
   "cell_type": "code",
   "execution_count": 36,
   "id": "b8e62023",
   "metadata": {
    "scrolled": true
   },
   "outputs": [
    {
     "name": "stdout",
     "output_type": "stream",
     "text": [
      "[15:29:19] WARNING: C:/Users/Administrator/workspace/xgboost-win64_release_1.5.0/src/learner.cc:1115: Starting in XGBoost 1.3.0, the default evaluation metric used with the objective 'binary:logistic' was changed from 'error' to 'logloss'. Explicitly set eval_metric if you'd like to restore the old behavior.\n"
     ]
    },
    {
     "data": {
      "text/plain": [
       "XGBClassifier(base_score=0.5, booster='gbtree', colsample_bylevel=1,\n",
       "              colsample_bynode=1, colsample_bytree=1, enable_categorical=False,\n",
       "              gamma=0, gpu_id=-1, importance_type=None,\n",
       "              interaction_constraints='', learning_rate=0.300000012,\n",
       "              max_delta_step=0, max_depth=6, min_child_weight=1, missing=nan,\n",
       "              monotone_constraints='()', n_estimators=100, n_jobs=8,\n",
       "              num_parallel_tree=1, predictor='auto', random_state=0,\n",
       "              reg_alpha=0, reg_lambda=1, scale_pos_weight=1, subsample=1,\n",
       "              tree_method='approx', validate_parameters=1, verbosity=None)"
      ]
     },
     "execution_count": 36,
     "metadata": {},
     "output_type": "execute_result"
    }
   ],
   "source": [
    "# fit xgboost model\n",
    "model_xgb = XGBClassifier(random_state=0)\n",
    "model_xgb.fit(X_train, y_train)"
   ]
  },
  {
   "cell_type": "code",
   "execution_count": 37,
   "id": "69ef7b59",
   "metadata": {
    "scrolled": true
   },
   "outputs": [
    {
     "name": "stdout",
     "output_type": "stream",
     "text": [
      "[[1555948   29578]\n",
      " [  67137  205110]]\n",
      "              precision    recall  f1-score   support\n",
      "\n",
      "         0.0       0.96      0.98      0.97   1585526\n",
      "         1.0       0.87      0.75      0.81    272247\n",
      "\n",
      "    accuracy                           0.95   1857773\n",
      "   macro avg       0.92      0.87      0.89   1857773\n",
      "weighted avg       0.95      0.95      0.95   1857773\n",
      "\n"
     ]
    }
   ],
   "source": [
    "preds_xgb = model_xgb.predict(X_val)\n",
    "\n",
    "print(confusion_matrix(y_val, preds_xgb))\n",
    "print(classification_report(y_val, preds_xgb))"
   ]
  },
  {
   "cell_type": "code",
   "execution_count": 54,
   "id": "ba92cd8a",
   "metadata": {
    "scrolled": false
   },
   "outputs": [
    {
     "data": {
      "text/plain": [
       "0.8092161716985413"
      ]
     },
     "execution_count": 54,
     "metadata": {},
     "output_type": "execute_result"
    }
   ],
   "source": [
    "f1_score(y_val, preds_xgb, average='binary')"
   ]
  },
  {
   "cell_type": "markdown",
   "id": "4348136c",
   "metadata": {},
   "source": [
    "### Preparing Submission File for XGBoost Model"
   ]
  },
  {
   "cell_type": "code",
   "execution_count": 62,
   "id": "f1f1e610",
   "metadata": {},
   "outputs": [
    {
     "name": "stdout",
     "output_type": "stream",
     "text": [
      "Memory usage of dataframe is 112.10 MB\n",
      "Memory usage after optimization is: 46.05 MB\n",
      "Decreased by 58.9%\n"
     ]
    }
   ],
   "source": [
    "df_test_xgb = import_data(\"test_all.csv\")"
   ]
  },
  {
   "cell_type": "code",
   "execution_count": 63,
   "id": "ea2f4c45",
   "metadata": {},
   "outputs": [],
   "source": [
    "df_test_xgb = df_test_xgb.merge(df_user, on=\"user_id\", how=\"left\")\n",
    "df_test_xgb[\"discount_ratio\"] = df_test_xgb[\"discounted_price\"] / df_test_xgb[\"original_price\"]\n",
    "df_test_xgb[\"discount_with_promotion\"] = ((df_test_xgb[\"coupon_discount\"] * -1) + (df_test_xgb[\"promotion_award_value\"])).fillna(0) / 100\n",
    "df_test_xgb[\"has_coupon\"] = df_test_xgb[\"coupon_id\"].notna().astype(int)\n",
    "df_test_xgb[\"used_promo\"] = df_test_xgb[\"promotion_name\"].notna().astype(int)\n",
    "df_test_xgb[\"user_return_ratio\"] = df_test_xgb[\"user_id\"].apply(lambda x: user_return_ratio[x])\n",
    "df_test_xgb[\"is_saved_card_trx\"] = df_test_xgb[\"is_saved_card_trx\"].replace({True: 1, False: 0})\n",
    "df_test_xgb[\"gender\"] = df_test_xgb[\"gender\"].replace({\"Bayan\": 1, \"Bay\": 0, \"UNKNOWN\": 1, \"kvkktalepsilindi\": 1})"
   ]
  },
  {
   "cell_type": "code",
   "execution_count": 64,
   "id": "401c7464",
   "metadata": {},
   "outputs": [
    {
     "data": {
      "text/plain": [
       "(487745, 30)"
      ]
     },
     "execution_count": 64,
     "metadata": {},
     "output_type": "execute_result"
    }
   ],
   "source": [
    "df_test_xgb.drop(drop_cols, axis=1, inplace=True)\n",
    "df_test_xgb.shape"
   ]
  },
  {
   "cell_type": "code",
   "execution_count": 65,
   "id": "3d1c79f4",
   "metadata": {},
   "outputs": [
    {
     "data": {
      "text/html": [
       "<div>\n",
       "<style scoped>\n",
       "    .dataframe tbody tr th:only-of-type {\n",
       "        vertical-align: middle;\n",
       "    }\n",
       "\n",
       "    .dataframe tbody tr th {\n",
       "        vertical-align: top;\n",
       "    }\n",
       "\n",
       "    .dataframe thead th {\n",
       "        text-align: right;\n",
       "    }\n",
       "</style>\n",
       "<table border=\"1\" class=\"dataframe\">\n",
       "  <thead>\n",
       "    <tr style=\"text-align: right;\">\n",
       "      <th></th>\n",
       "      <th>user_id</th>\n",
       "      <th>is_elite_user</th>\n",
       "      <th>supplier_id</th>\n",
       "      <th>order_line_item_id</th>\n",
       "      <th>order_parent_id</th>\n",
       "      <th>product_content_id</th>\n",
       "      <th>product_variant_id</th>\n",
       "      <th>original_price</th>\n",
       "      <th>ship_cost</th>\n",
       "      <th>is_wallet_trx</th>\n",
       "      <th>...</th>\n",
       "      <th>brand_id</th>\n",
       "      <th>category_id</th>\n",
       "      <th>gender</th>\n",
       "      <th>tenure</th>\n",
       "      <th>discount_ratio</th>\n",
       "      <th>discount_with_promotion</th>\n",
       "      <th>has_coupon</th>\n",
       "      <th>used_promo</th>\n",
       "      <th>user_return_ratio</th>\n",
       "      <th>expected</th>\n",
       "    </tr>\n",
       "  </thead>\n",
       "  <tbody>\n",
       "    <tr>\n",
       "      <th>0</th>\n",
       "      <td>5323264</td>\n",
       "      <td>0</td>\n",
       "      <td>823</td>\n",
       "      <td>1106635517</td>\n",
       "      <td>721367415</td>\n",
       "      <td>55264030</td>\n",
       "      <td>97997774</td>\n",
       "      <td>650.000</td>\n",
       "      <td>8.882812</td>\n",
       "      <td>0</td>\n",
       "      <td>...</td>\n",
       "      <td>2020</td>\n",
       "      <td>1182</td>\n",
       "      <td>1</td>\n",
       "      <td>3850</td>\n",
       "      <td>0.399902</td>\n",
       "      <td>0.000000</td>\n",
       "      <td>0</td>\n",
       "      <td>0</td>\n",
       "      <td>0.842105</td>\n",
       "      <td>1.0</td>\n",
       "    </tr>\n",
       "    <tr>\n",
       "      <th>1</th>\n",
       "      <td>18238989</td>\n",
       "      <td>1</td>\n",
       "      <td>968</td>\n",
       "      <td>1106636273</td>\n",
       "      <td>721367451</td>\n",
       "      <td>4032918</td>\n",
       "      <td>16332708</td>\n",
       "      <td>105.000</td>\n",
       "      <td>9.398438</td>\n",
       "      <td>1</td>\n",
       "      <td>...</td>\n",
       "      <td>15508</td>\n",
       "      <td>604</td>\n",
       "      <td>1</td>\n",
       "      <td>1251</td>\n",
       "      <td>0.700195</td>\n",
       "      <td>0.300049</td>\n",
       "      <td>0</td>\n",
       "      <td>1</td>\n",
       "      <td>0.000000</td>\n",
       "      <td>0.0</td>\n",
       "    </tr>\n",
       "    <tr>\n",
       "      <th>2</th>\n",
       "      <td>13354100</td>\n",
       "      <td>1</td>\n",
       "      <td>346</td>\n",
       "      <td>1106635244</td>\n",
       "      <td>721367483</td>\n",
       "      <td>98066435</td>\n",
       "      <td>163202748</td>\n",
       "      <td>79.875</td>\n",
       "      <td>10.671875</td>\n",
       "      <td>0</td>\n",
       "      <td>...</td>\n",
       "      <td>381</td>\n",
       "      <td>581</td>\n",
       "      <td>1</td>\n",
       "      <td>1851</td>\n",
       "      <td>0.500000</td>\n",
       "      <td>0.000000</td>\n",
       "      <td>0</td>\n",
       "      <td>0</td>\n",
       "      <td>0.299213</td>\n",
       "      <td>0.0</td>\n",
       "    </tr>\n",
       "    <tr>\n",
       "      <th>3</th>\n",
       "      <td>49613268</td>\n",
       "      <td>1</td>\n",
       "      <td>335931</td>\n",
       "      <td>1106634651</td>\n",
       "      <td>721367533</td>\n",
       "      <td>87599480</td>\n",
       "      <td>146668239</td>\n",
       "      <td>120.000</td>\n",
       "      <td>11.328125</td>\n",
       "      <td>0</td>\n",
       "      <td>...</td>\n",
       "      <td>1027526</td>\n",
       "      <td>597</td>\n",
       "      <td>1</td>\n",
       "      <td>484</td>\n",
       "      <td>0.541504</td>\n",
       "      <td>0.399902</td>\n",
       "      <td>0</td>\n",
       "      <td>1</td>\n",
       "      <td>0.000000</td>\n",
       "      <td>0.0</td>\n",
       "    </tr>\n",
       "    <tr>\n",
       "      <th>4</th>\n",
       "      <td>7252871</td>\n",
       "      <td>1</td>\n",
       "      <td>201</td>\n",
       "      <td>1106637202</td>\n",
       "      <td>721367537</td>\n",
       "      <td>96509590</td>\n",
       "      <td>160768055</td>\n",
       "      <td>105.750</td>\n",
       "      <td>8.882812</td>\n",
       "      <td>0</td>\n",
       "      <td>...</td>\n",
       "      <td>36426</td>\n",
       "      <td>604</td>\n",
       "      <td>1</td>\n",
       "      <td>3685</td>\n",
       "      <td>0.562500</td>\n",
       "      <td>0.250000</td>\n",
       "      <td>0</td>\n",
       "      <td>1</td>\n",
       "      <td>0.089286</td>\n",
       "      <td>0.0</td>\n",
       "    </tr>\n",
       "  </tbody>\n",
       "</table>\n",
       "<p>5 rows × 31 columns</p>\n",
       "</div>"
      ],
      "text/plain": [
       "    user_id  is_elite_user  supplier_id  order_line_item_id  order_parent_id  \\\n",
       "0   5323264              0          823          1106635517        721367415   \n",
       "1  18238989              1          968          1106636273        721367451   \n",
       "2  13354100              1          346          1106635244        721367483   \n",
       "3  49613268              1       335931          1106634651        721367533   \n",
       "4   7252871              1          201          1106637202        721367537   \n",
       "\n",
       "   product_content_id  product_variant_id  original_price  ship_cost  \\\n",
       "0            55264030            97997774         650.000   8.882812   \n",
       "1             4032918            16332708         105.000   9.398438   \n",
       "2            98066435           163202748          79.875  10.671875   \n",
       "3            87599480           146668239         120.000  11.328125   \n",
       "4            96509590           160768055         105.750   8.882812   \n",
       "\n",
       "   is_wallet_trx  ...  brand_id  category_id  gender  tenure  discount_ratio  \\\n",
       "0              0  ...      2020         1182       1    3850        0.399902   \n",
       "1              1  ...     15508          604       1    1251        0.700195   \n",
       "2              0  ...       381          581       1    1851        0.500000   \n",
       "3              0  ...   1027526          597       1     484        0.541504   \n",
       "4              0  ...     36426          604       1    3685        0.562500   \n",
       "\n",
       "   discount_with_promotion  has_coupon  used_promo  user_return_ratio  \\\n",
       "0                 0.000000           0           0           0.842105   \n",
       "1                 0.300049           0           1           0.000000   \n",
       "2                 0.000000           0           0           0.299213   \n",
       "3                 0.399902           0           1           0.000000   \n",
       "4                 0.250000           0           1           0.089286   \n",
       "\n",
       "   expected  \n",
       "0       1.0  \n",
       "1       0.0  \n",
       "2       0.0  \n",
       "3       0.0  \n",
       "4       0.0  \n",
       "\n",
       "[5 rows x 31 columns]"
      ]
     },
     "execution_count": 65,
     "metadata": {},
     "output_type": "execute_result"
    }
   ],
   "source": [
    "test_preds_xgb = model_xgb.predict(df_test_xgb[X_train.columns])\n",
    "df_test_xgb[\"expected\"] = test_preds_xgb\n",
    "df_test_xgb.head()"
   ]
  },
  {
   "cell_type": "code",
   "execution_count": 66,
   "id": "491be22f",
   "metadata": {},
   "outputs": [],
   "source": [
    "df_test_xgb = df_test_xgb.groupby(by=[\"user_id\" , \"product_content_id\" , \"order_parent_id\"])[\"expected\"].max().reset_index()"
   ]
  },
  {
   "cell_type": "code",
   "execution_count": 69,
   "id": "39368091",
   "metadata": {},
   "outputs": [],
   "source": [
    "sub_data_xgb = pd.read_csv(\"data/test_data.csv\")"
   ]
  },
  {
   "cell_type": "code",
   "execution_count": 70,
   "id": "dd250b92",
   "metadata": {},
   "outputs": [
    {
     "data": {
      "text/html": [
       "<div>\n",
       "<style scoped>\n",
       "    .dataframe tbody tr th:only-of-type {\n",
       "        vertical-align: middle;\n",
       "    }\n",
       "\n",
       "    .dataframe tbody tr th {\n",
       "        vertical-align: top;\n",
       "    }\n",
       "\n",
       "    .dataframe thead th {\n",
       "        text-align: right;\n",
       "    }\n",
       "</style>\n",
       "<table border=\"1\" class=\"dataframe\">\n",
       "  <thead>\n",
       "    <tr style=\"text-align: right;\">\n",
       "      <th></th>\n",
       "      <th>user_id</th>\n",
       "      <th>product_content_id</th>\n",
       "      <th>order_parent_id</th>\n",
       "    </tr>\n",
       "  </thead>\n",
       "  <tbody>\n",
       "    <tr>\n",
       "      <th>0</th>\n",
       "      <td>18115</td>\n",
       "      <td>87073974</td>\n",
       "      <td>726348863</td>\n",
       "    </tr>\n",
       "    <tr>\n",
       "      <th>1</th>\n",
       "      <td>27588</td>\n",
       "      <td>118753298</td>\n",
       "      <td>723169934</td>\n",
       "    </tr>\n",
       "    <tr>\n",
       "      <th>2</th>\n",
       "      <td>29165</td>\n",
       "      <td>35699988</td>\n",
       "      <td>724122443</td>\n",
       "    </tr>\n",
       "    <tr>\n",
       "      <th>3</th>\n",
       "      <td>29969</td>\n",
       "      <td>5893187</td>\n",
       "      <td>722342150</td>\n",
       "    </tr>\n",
       "    <tr>\n",
       "      <th>4</th>\n",
       "      <td>35107</td>\n",
       "      <td>93897418</td>\n",
       "      <td>723421057</td>\n",
       "    </tr>\n",
       "  </tbody>\n",
       "</table>\n",
       "</div>"
      ],
      "text/plain": [
       "   user_id  product_content_id  order_parent_id\n",
       "0    18115            87073974        726348863\n",
       "1    27588           118753298        723169934\n",
       "2    29165            35699988        724122443\n",
       "3    29969             5893187        722342150\n",
       "4    35107            93897418        723421057"
      ]
     },
     "execution_count": 70,
     "metadata": {},
     "output_type": "execute_result"
    }
   ],
   "source": [
    "sub_data_xgb[[\"user_id\" , \"product_content_id\" , \"order_parent_id\"]] = sub_data_xgb[\"id\"].str.split(\"|\", expand=True)\n",
    "sub_data_xgb = sub_data_xgb[[\"user_id\" , \"product_content_id\" , \"order_parent_id\"]].astype(int)\n",
    "sub_data_xgb.head()"
   ]
  },
  {
   "cell_type": "code",
   "execution_count": 71,
   "id": "7e4c3e2f",
   "metadata": {},
   "outputs": [
    {
     "data": {
      "text/html": [
       "<div>\n",
       "<style scoped>\n",
       "    .dataframe tbody tr th:only-of-type {\n",
       "        vertical-align: middle;\n",
       "    }\n",
       "\n",
       "    .dataframe tbody tr th {\n",
       "        vertical-align: top;\n",
       "    }\n",
       "\n",
       "    .dataframe thead th {\n",
       "        text-align: right;\n",
       "    }\n",
       "</style>\n",
       "<table border=\"1\" class=\"dataframe\">\n",
       "  <thead>\n",
       "    <tr style=\"text-align: right;\">\n",
       "      <th></th>\n",
       "      <th>user_id</th>\n",
       "      <th>product_content_id</th>\n",
       "      <th>order_parent_id</th>\n",
       "      <th>expected</th>\n",
       "    </tr>\n",
       "  </thead>\n",
       "  <tbody>\n",
       "    <tr>\n",
       "      <th>0</th>\n",
       "      <td>18115</td>\n",
       "      <td>87073974</td>\n",
       "      <td>726348863</td>\n",
       "      <td>1</td>\n",
       "    </tr>\n",
       "    <tr>\n",
       "      <th>1</th>\n",
       "      <td>27588</td>\n",
       "      <td>118753298</td>\n",
       "      <td>723169934</td>\n",
       "      <td>1</td>\n",
       "    </tr>\n",
       "    <tr>\n",
       "      <th>2</th>\n",
       "      <td>29165</td>\n",
       "      <td>35699988</td>\n",
       "      <td>724122443</td>\n",
       "      <td>0</td>\n",
       "    </tr>\n",
       "    <tr>\n",
       "      <th>3</th>\n",
       "      <td>29969</td>\n",
       "      <td>5893187</td>\n",
       "      <td>722342150</td>\n",
       "      <td>1</td>\n",
       "    </tr>\n",
       "    <tr>\n",
       "      <th>4</th>\n",
       "      <td>35107</td>\n",
       "      <td>93897418</td>\n",
       "      <td>723421057</td>\n",
       "      <td>0</td>\n",
       "    </tr>\n",
       "  </tbody>\n",
       "</table>\n",
       "</div>"
      ],
      "text/plain": [
       "   user_id  product_content_id  order_parent_id  expected\n",
       "0    18115            87073974        726348863         1\n",
       "1    27588           118753298        723169934         1\n",
       "2    29165            35699988        724122443         0\n",
       "3    29969             5893187        722342150         1\n",
       "4    35107            93897418        723421057         0"
      ]
     },
     "execution_count": 71,
     "metadata": {},
     "output_type": "execute_result"
    }
   ],
   "source": [
    "sub_final_xgb = sub_data_xgb.merge(df_test_xgb, on=[\"user_id\" , \"product_content_id\" , \"order_parent_id\"], how=\"left\")\n",
    "sub_final_xgb.expected = sub_final_xgb.expected.astype(int)\n",
    "sub_final_xgb.head()"
   ]
  },
  {
   "cell_type": "code",
   "execution_count": 72,
   "id": "2ae00834",
   "metadata": {},
   "outputs": [
    {
     "data": {
      "text/html": [
       "<div>\n",
       "<style scoped>\n",
       "    .dataframe tbody tr th:only-of-type {\n",
       "        vertical-align: middle;\n",
       "    }\n",
       "\n",
       "    .dataframe tbody tr th {\n",
       "        vertical-align: top;\n",
       "    }\n",
       "\n",
       "    .dataframe thead th {\n",
       "        text-align: right;\n",
       "    }\n",
       "</style>\n",
       "<table border=\"1\" class=\"dataframe\">\n",
       "  <thead>\n",
       "    <tr style=\"text-align: right;\">\n",
       "      <th></th>\n",
       "      <th>user_id</th>\n",
       "      <th>product_content_id</th>\n",
       "      <th>order_parent_id</th>\n",
       "      <th>expected</th>\n",
       "      <th>id</th>\n",
       "    </tr>\n",
       "  </thead>\n",
       "  <tbody>\n",
       "    <tr>\n",
       "      <th>0</th>\n",
       "      <td>18115</td>\n",
       "      <td>87073974</td>\n",
       "      <td>726348863</td>\n",
       "      <td>1</td>\n",
       "      <td>18115|87073974|726348863</td>\n",
       "    </tr>\n",
       "    <tr>\n",
       "      <th>1</th>\n",
       "      <td>27588</td>\n",
       "      <td>118753298</td>\n",
       "      <td>723169934</td>\n",
       "      <td>1</td>\n",
       "      <td>27588|118753298|723169934</td>\n",
       "    </tr>\n",
       "    <tr>\n",
       "      <th>2</th>\n",
       "      <td>29165</td>\n",
       "      <td>35699988</td>\n",
       "      <td>724122443</td>\n",
       "      <td>0</td>\n",
       "      <td>29165|35699988|724122443</td>\n",
       "    </tr>\n",
       "    <tr>\n",
       "      <th>3</th>\n",
       "      <td>29969</td>\n",
       "      <td>5893187</td>\n",
       "      <td>722342150</td>\n",
       "      <td>1</td>\n",
       "      <td>29969|5893187|722342150</td>\n",
       "    </tr>\n",
       "    <tr>\n",
       "      <th>4</th>\n",
       "      <td>35107</td>\n",
       "      <td>93897418</td>\n",
       "      <td>723421057</td>\n",
       "      <td>0</td>\n",
       "      <td>35107|93897418|723421057</td>\n",
       "    </tr>\n",
       "  </tbody>\n",
       "</table>\n",
       "</div>"
      ],
      "text/plain": [
       "   user_id  product_content_id  order_parent_id  expected  \\\n",
       "0    18115            87073974        726348863         1   \n",
       "1    27588           118753298        723169934         1   \n",
       "2    29165            35699988        724122443         0   \n",
       "3    29969             5893187        722342150         1   \n",
       "4    35107            93897418        723421057         0   \n",
       "\n",
       "                          id  \n",
       "0   18115|87073974|726348863  \n",
       "1  27588|118753298|723169934  \n",
       "2   29165|35699988|724122443  \n",
       "3    29969|5893187|722342150  \n",
       "4   35107|93897418|723421057  "
      ]
     },
     "execution_count": 72,
     "metadata": {},
     "output_type": "execute_result"
    }
   ],
   "source": [
    "sub_final_xgb[\"id\"] = sub_final_xgb.apply(lambda x: str(x.user_id) + \"|\" + \n",
    "                                  str(x.product_content_id) + \"|\" + \n",
    "                                  str(x.order_parent_id), axis=1)\n",
    "\n",
    "sub_final_xgb.head()"
   ]
  },
  {
   "cell_type": "code",
   "execution_count": 73,
   "id": "ca066e97",
   "metadata": {},
   "outputs": [
    {
     "data": {
      "text/plain": [
       "0    0.837639\n",
       "1    0.162361\n",
       "Name: expected, dtype: float64"
      ]
     },
     "execution_count": 73,
     "metadata": {},
     "output_type": "execute_result"
    }
   ],
   "source": [
    "sub_final_xgb.expected.value_counts(normalize=True)"
   ]
  },
  {
   "cell_type": "code",
   "execution_count": 74,
   "id": "11f54753",
   "metadata": {},
   "outputs": [],
   "source": [
    "sub_final_xgb[[\"id\", \"expected\"]].to_csv(\"sub_file_1704_xgboost.csv\", index=False)"
   ]
  },
  {
   "cell_type": "code",
   "execution_count": null,
   "id": "5007f169",
   "metadata": {},
   "outputs": [],
   "source": []
  }
 ],
 "metadata": {
  "kernelspec": {
   "display_name": "Python 3",
   "language": "python",
   "name": "python3"
  },
  "language_info": {
   "codemirror_mode": {
    "name": "ipython",
    "version": 3
   },
   "file_extension": ".py",
   "mimetype": "text/x-python",
   "name": "python",
   "nbconvert_exporter": "python",
   "pygments_lexer": "ipython3",
   "version": "3.8.8"
  }
 },
 "nbformat": 4,
 "nbformat_minor": 5
}
